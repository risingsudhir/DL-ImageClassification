{
 "cells": [
  {
   "cell_type": "markdown",
   "metadata": {
    "collapsed": true,
    "deletable": true,
    "editable": true
   },
   "source": [
    "# Image Classification\n",
    "In this project, you'll classify images from the [CIFAR-10 dataset](https://www.cs.toronto.edu/~kriz/cifar.html).  The dataset consists of airplanes, dogs, cats, and other objects. You'll preprocess the images, then train a convolutional neural network on all the samples. The images need to be normalized and the labels need to be one-hot encoded.  You'll get to apply what you learned and build a convolutional, max pooling, dropout, and fully connected layers.  At the end, you'll get to see your neural network's predictions on the sample images.\n",
    "## Get the Data\n",
    "Run the following cell to download the [CIFAR-10 dataset for python](https://www.cs.toronto.edu/~kriz/cifar-10-python.tar.gz)."
   ]
  },
  {
   "cell_type": "code",
   "execution_count": 2,
   "metadata": {
    "collapsed": false,
    "deletable": true,
    "editable": true
   },
   "outputs": [
    {
     "name": "stdout",
     "output_type": "stream",
     "text": [
      "All files found!\n"
     ]
    }
   ],
   "source": [
    "\"\"\"\n",
    "DON'T MODIFY ANYTHING IN THIS CELL THAT IS BELOW THIS LINE\n",
    "\"\"\"\n",
    "from urllib.request import urlretrieve\n",
    "from os.path import isfile, isdir\n",
    "from tqdm import tqdm\n",
    "import problem_unittests as tests\n",
    "import tarfile\n",
    "\n",
    "cifar10_dataset_folder_path = 'cifar-10-batches-py'\n",
    "\n",
    "class DLProgress(tqdm):\n",
    "    last_block = 0\n",
    "\n",
    "    def hook(self, block_num=1, block_size=1, total_size=None):\n",
    "        self.total = total_size\n",
    "        self.update((block_num - self.last_block) * block_size)\n",
    "        self.last_block = block_num\n",
    "\n",
    "if not isfile('cifar-10-python.tar.gz'):\n",
    "    with DLProgress(unit='B', unit_scale=True, miniters=1, desc='CIFAR-10 Dataset') as pbar:\n",
    "        urlretrieve(\n",
    "            'https://www.cs.toronto.edu/~kriz/cifar-10-python.tar.gz',\n",
    "            'cifar-10-python.tar.gz',\n",
    "            pbar.hook)\n",
    "\n",
    "if not isdir(cifar10_dataset_folder_path):\n",
    "    with tarfile.open('cifar-10-python.tar.gz') as tar:\n",
    "        tar.extractall()\n",
    "        tar.close()\n",
    "\n",
    "\n",
    "tests.test_folder_path(cifar10_dataset_folder_path)"
   ]
  },
  {
   "cell_type": "markdown",
   "metadata": {
    "deletable": true,
    "editable": true
   },
   "source": [
    "## Explore the Data\n",
    "The dataset is broken into batches to prevent your machine from running out of memory.  The CIFAR-10 dataset consists of 5 batches, named `data_batch_1`, `data_batch_2`, etc.. Each batch contains the labels and images that are one of the following:\n",
    "* airplane\n",
    "* automobile\n",
    "* bird\n",
    "* cat\n",
    "* deer\n",
    "* dog\n",
    "* frog\n",
    "* horse\n",
    "* ship\n",
    "* truck\n",
    "\n",
    "Understanding a dataset is part of making predictions on the data.  Play around with the code cell below by changing the `batch_id` and `sample_id`. The `batch_id` is the id for a batch (1-5). The `sample_id` is the id for a image and label pair in the batch.\n",
    "\n",
    "Ask yourself \"What are all possible labels?\", \"What is the range of values for the image data?\", \"Are the labels in order or random?\".  Answers to questions like these will help you preprocess the data and end up with better predictions."
   ]
  },
  {
   "cell_type": "code",
   "execution_count": 3,
   "metadata": {
    "collapsed": false,
    "deletable": true,
    "editable": true
   },
   "outputs": [
    {
     "name": "stdout",
     "output_type": "stream",
     "text": [
      "\n",
      "Stats of batch 2:\n",
      "Samples: 10000\n",
      "Label Counts: {0: 984, 1: 1007, 2: 1010, 3: 995, 4: 1010, 5: 988, 6: 1008, 7: 1026, 8: 987, 9: 985}\n",
      "First 20 Labels: [1, 6, 6, 8, 8, 3, 4, 6, 0, 6, 0, 3, 6, 6, 5, 4, 8, 3, 2, 6]\n",
      "\n",
      "Example of Image 45:\n",
      "Image - Min Value: 19 Max Value: 255\n",
      "Image - Shape: (32, 32, 3)\n",
      "Label - Label Id: 7 Name: horse\n"
     ]
    },
    {
     "data": {
      "image/png": "[encoded data removed]",
      "text/plain": [
       "<matplotlib.figure.Figure at 0x7f1efed9af60>"
      ]
     },
     "metadata": {
      "image/png": {
       "height": 250,
       "width": 253
      }
     },
     "output_type": "display_data"
    }
   ],
   "source": [
    "%matplotlib inline\n",
    "%config InlineBackend.figure_format = 'retina'\n",
    "\n",
    "import helper\n",
    "import numpy as np\n",
    "\n",
    "# Explore the dataset\n",
    "batch_id = 2\n",
    "sample_id = 45\n",
    "helper.display_stats(cifar10_dataset_folder_path, batch_id, sample_id)"
   ]
  },
  {
   "cell_type": "markdown",
   "metadata": {
    "deletable": true,
    "editable": true
   },
   "source": [
    "## Implement Preprocess Functions\n",
    "### Normalize\n",
    "In the cell below, implement the `normalize` function to take in image data, `x`, and return it as a normalized Numpy array. The values should be in the range of 0 to 1, inclusive.  The return object should be the same shape as `x`."
   ]
  },
  {
   "cell_type": "code",
   "execution_count": 4,
   "metadata": {
    "collapsed": false,
    "deletable": true,
    "editable": true
   },
   "outputs": [
    {
     "name": "stdout",
     "output_type": "stream",
     "text": [
      "Tests Passed\n"
     ]
    }
   ],
   "source": [
    "def normalize(x):\n",
    "    \"\"\"\n",
    "    Normalize a list of sample image data in the range of 0 to 1\n",
    "    : x: List of image data.  The image shape is (32, 32, 3)\n",
    "    : return: Numpy array of normalize data\n",
    "    \"\"\"\n",
    "    # normalize the data in range [0, 1]\n",
    "    min_x = x.min()\n",
    "    max_x = x.max()\n",
    "    \n",
    "    return (x - min_x) / (max_x - min_x)\n",
    "\n",
    "\"\"\"\n",
    "DON'T MODIFY ANYTHING IN THIS CELL THAT IS BELOW THIS LINE\n",
    "\"\"\"\n",
    "tests.test_normalize(normalize)"
   ]
  },
  {
   "cell_type": "markdown",
   "metadata": {
    "deletable": true,
    "editable": true
   },
   "source": [
    "### One-hot encode\n",
    "Just like the previous code cell, you'll be implementing a function for preprocessing.  This time, you'll implement the `one_hot_encode` function. The input, `x`, are a list of labels.  Implement the function to return the list of labels as One-Hot encoded Numpy array.  The possible values for labels are 0 to 9. The one-hot encoding function should return the same encoding for each value between each call to `one_hot_encode`.  Make sure to save the map of encodings outside the function.\n",
    "\n",
    "Hint: Don't reinvent the wheel."
   ]
  },
  {
   "cell_type": "code",
   "execution_count": 5,
   "metadata": {
    "collapsed": false,
    "deletable": true,
    "editable": true
   },
   "outputs": [
    {
     "name": "stdout",
     "output_type": "stream",
     "text": [
      "Tests Passed\n"
     ]
    }
   ],
   "source": [
    "label_encoding = np.eye(10)\n",
    "\n",
    "def one_hot_encode(x):\n",
    "    \"\"\"\n",
    "    One hot encode a list of sample labels. Return a one-hot encoded vector for each label.\n",
    "    : x: List of sample Labels\n",
    "    : return: Numpy array of one-hot encoded labels\n",
    "    \"\"\"\n",
    "            \n",
    "    return label_encoding[x]\n",
    "\n",
    "\"\"\"\n",
    "DON'T MODIFY ANYTHING IN THIS CELL THAT IS BELOW THIS LINE\n",
    "\"\"\"\n",
    "tests.test_one_hot_encode(one_hot_encode)"
   ]
  },
  {
   "cell_type": "markdown",
   "metadata": {
    "deletable": true,
    "editable": true
   },
   "source": [
    "### Randomize Data\n",
    "As you saw from exploring the data above, the order of the samples are randomized.  It doesn't hurt to randomize it again, but you don't need to for this dataset."
   ]
  },
  {
   "cell_type": "markdown",
   "metadata": {
    "deletable": true,
    "editable": true
   },
   "source": [
    "## Preprocess all the data and save it\n",
    "Running the code cell below will preprocess all the CIFAR-10 data and save it to file. The code below also uses 10% of the training data for validation."
   ]
  },
  {
   "cell_type": "code",
   "execution_count": 7,
   "metadata": {
    "collapsed": false,
    "deletable": true,
    "editable": true
   },
   "outputs": [],
   "source": [
    "\"\"\"\n",
    "DON'T MODIFY ANYTHING IN THIS CELL\n",
    "\"\"\"\n",
    "# Preprocess Training, Validation, and Testing Data\n",
    "helper.preprocess_and_save_data(cifar10_dataset_folder_path, normalize, one_hot_encode)"
   ]
  },
  {
   "cell_type": "markdown",
   "metadata": {
    "deletable": true,
    "editable": true
   },
   "source": [
    "# Check Point\n",
    "This is your first checkpoint.  If you ever decide to come back to this notebook or have to restart the notebook, you can start from here.  The preprocessed data has been saved to disk."
   ]
  },
  {
   "cell_type": "code",
   "execution_count": 8,
   "metadata": {
    "collapsed": true,
    "deletable": true,
    "editable": true
   },
   "outputs": [],
   "source": [
    "\"\"\"\n",
    "DON'T MODIFY ANYTHING IN THIS CELL\n",
    "\"\"\"\n",
    "import pickle\n",
    "import problem_unittests as tests\n",
    "import helper\n",
    "\n",
    "# Load the Preprocessed Validation data\n",
    "valid_features, valid_labels = pickle.load(open('preprocess_validation.p', mode='rb'))"
   ]
  },
  {
   "cell_type": "markdown",
   "metadata": {
    "deletable": true,
    "editable": true
   },
   "source": [
    "## Build the network\n",
    "For the neural network, you'll build each layer into a function.  Most of the code you've seen has been outside of functions. To test your code more thoroughly, we require that you put each layer in a function.  This allows us to give you better feedback and test for simple mistakes using our unittests before you submit your project.\n",
    "\n",
    ">**Note:** If you're finding it hard to dedicate enough time for this course each week, we've provided a small shortcut to this part of the project. In the next couple of problems, you'll have the option to use classes from the [TensorFlow Layers](https://www.tensorflow.org/api_docs/python/tf/layers) or [TensorFlow Layers (contrib)](https://www.tensorflow.org/api_guides/python/contrib.layers) packages to build each layer, except the layers you build in the \"Convolutional and Max Pooling Layer\" section.  TF Layers is similar to Keras's and TFLearn's abstraction to layers, so it's easy to pickup.\n",
    "\n",
    ">However, if you would like to get the most out of this course, try to solve all the problems _without_ using anything from the TF Layers packages. You **can** still use classes from other packages that happen to have the same name as ones you find in TF Layers! For example, instead of using the TF Layers version of the `conv2d` class, [tf.layers.conv2d](https://www.tensorflow.org/api_docs/python/tf/layers/conv2d), you would want to use the TF Neural Network version of `conv2d`, [tf.nn.conv2d](https://www.tensorflow.org/api_docs/python/tf/nn/conv2d). \n",
    "\n",
    "Let's begin!\n",
    "\n",
    "### Input\n",
    "The neural network needs to read the image data, one-hot encoded labels, and dropout keep probability. Implement the following functions\n",
    "* Implement `neural_net_image_input`\n",
    " * Return a [TF Placeholder](https://www.tensorflow.org/api_docs/python/tf/placeholder)\n",
    " * Set the shape using `image_shape` with batch size set to `None`.\n",
    " * Name the TensorFlow placeholder \"x\" using the TensorFlow `name` parameter in the [TF Placeholder](https://www.tensorflow.org/api_docs/python/tf/placeholder).\n",
    "* Implement `neural_net_label_input`\n",
    " * Return a [TF Placeholder](https://www.tensorflow.org/api_docs/python/tf/placeholder)\n",
    " * Set the shape using `n_classes` with batch size set to `None`.\n",
    " * Name the TensorFlow placeholder \"y\" using the TensorFlow `name` parameter in the [TF Placeholder](https://www.tensorflow.org/api_docs/python/tf/placeholder).\n",
    "* Implement `neural_net_keep_prob_input`\n",
    " * Return a [TF Placeholder](https://www.tensorflow.org/api_docs/python/tf/placeholder) for dropout keep probability.\n",
    " * Name the TensorFlow placeholder \"keep_prob\" using the TensorFlow `name` parameter in the [TF Placeholder](https://www.tensorflow.org/api_docs/python/tf/placeholder).\n",
    "\n",
    "These names will be used at the end of the project to load your saved model.\n",
    "\n",
    "Note: `None` for shapes in TensorFlow allow for a dynamic size."
   ]
  },
  {
   "cell_type": "code",
   "execution_count": 9,
   "metadata": {
    "collapsed": false,
    "deletable": true,
    "editable": true
   },
   "outputs": [
    {
     "name": "stdout",
     "output_type": "stream",
     "text": [
      "Image Input Tests Passed.\n",
      "Label Input Tests Passed.\n",
      "Keep Prob Tests Passed.\n"
     ]
    }
   ],
   "source": [
    "import tensorflow as tf\n",
    "import numpy as np\n",
    "\n",
    "def neural_net_image_input(image_shape):\n",
    "    \"\"\"\n",
    "    Return a Tensor for a batch of image input\n",
    "    : image_shape: Shape of the images\n",
    "    : return: Tensor for image input.\n",
    "    \"\"\"\n",
    "    \n",
    "    # image is of shapre 32x32x3. Keep 4d tensor to accept input [batch_size, height, width, depth]\n",
    "    return tf.placeholder(tf.float32,[None, image_shape[0], image_shape[1], image_shape[2]], name ='x')\n",
    "\n",
    "\n",
    "def neural_net_label_input(n_classes):\n",
    "    \"\"\"\n",
    "    Return a Tensor for a batch of label input\n",
    "    : n_classes: Number of classes\n",
    "    : return: Tensor for label input.\n",
    "    \"\"\"\n",
    "    \n",
    "    return tf.placeholder(tf.float32, [None, n_classes], name = 'y')\n",
    "\n",
    "\n",
    "def neural_net_keep_prob_input():\n",
    "    \"\"\"\n",
    "    Return a Tensor for keep probability\n",
    "    : return: Tensor for keep probability.\n",
    "    \"\"\"\n",
    "    \n",
    "    return tf.placeholder(tf.float32, name = 'keep_prob')\n",
    "\n",
    "\n",
    "\"\"\"\n",
    "DON'T MODIFY ANYTHING IN THIS CELL THAT IS BELOW THIS LINE\n",
    "\"\"\"\n",
    "tf.reset_default_graph()\n",
    "tests.test_nn_image_inputs(neural_net_image_input)\n",
    "tests.test_nn_label_inputs(neural_net_label_input)\n",
    "tests.test_nn_keep_prob_inputs(neural_net_keep_prob_input)"
   ]
  },
  {
   "cell_type": "markdown",
   "metadata": {
    "deletable": true,
    "editable": true
   },
   "source": [
    "### Convolution and Max Pooling Layer\n",
    "Convolution layers have a lot of success with images. For this code cell, you should implement the function `conv2d_maxpool` to apply convolution then max pooling:\n",
    "* Create the weight and bias using `conv_ksize`, `conv_num_outputs` and the shape of `x_tensor`.\n",
    "* Apply a convolution to `x_tensor` using weight and `conv_strides`.\n",
    " * We recommend you use same padding, but you're welcome to use any padding.\n",
    "* Add bias\n",
    "* Add a nonlinear activation to the convolution.\n",
    "* Apply Max Pooling using `pool_ksize` and `pool_strides`.\n",
    " * We recommend you use same padding, but you're welcome to use any padding.\n",
    "\n",
    "**Note:** You **can't** use [TensorFlow Layers](https://www.tensorflow.org/api_docs/python/tf/layers) or [TensorFlow Layers (contrib)](https://www.tensorflow.org/api_guides/python/contrib.layers) for **this** layer, but you can still use TensorFlow's [Neural Network](https://www.tensorflow.org/api_docs/python/tf/nn) package. You may still use the shortcut option for all the **other** layers."
   ]
  },
  {
   "cell_type": "code",
   "execution_count": 26,
   "metadata": {
    "collapsed": false,
    "deletable": true,
    "editable": true
   },
   "outputs": [
    {
     "name": "stdout",
     "output_type": "stream",
     "text": [
      "Tests Passed\n"
     ]
    }
   ],
   "source": [
    "def conv2d_maxpool(x_tensor, conv_num_outputs, conv_ksize, conv_strides, pool_ksize, pool_strides):\n",
    "    \"\"\"\n",
    "    Apply convolution then max pooling to x_tensor\n",
    "    :param x_tensor: TensorFlow Tensor\n",
    "    :param conv_num_outputs: Number of outputs for the convolutional layer\n",
    "    :param conv_ksize: kernal size 2-D Tuple for the convolutional layer\n",
    "    :param conv_strides: Stride 2-D Tuple for convolution\n",
    "    :param pool_ksize: kernal size 2-D Tuple for pool\n",
    "    :param pool_strides: Stride 2-D Tuple for pool\n",
    "    : return: A tensor that represents convolution and max pooling of x_tensor\n",
    "    \"\"\"\n",
    "            \n",
    "    # get the input image shape - [height, width, depth]\n",
    "    input_depth   = x_tensor.get_shape().as_list()[-1]\n",
    "    filter_height = conv_ksize[0]\n",
    "    filter_width  = conv_ksize[1]\n",
    "    \n",
    "    # init weights and biases for input tensor\n",
    "    weights = tf.Variable(tf.truncated_normal([filter_height, filter_width, input_depth, conv_num_outputs], mean = 0.0, stddev = 0.1))\n",
    "    \n",
    "    biases  = tf.Variable(tf.zeros(conv_num_outputs))\n",
    "    \n",
    "    # perform convolution to input image\n",
    "    conv_stride = [1, conv_strides[0], conv_strides[1], 1]\n",
    "    \n",
    "    conv = tf.nn.conv2d(x_tensor, weights, strides = conv_stride, padding = 'SAME')\n",
    "    \n",
    "    # add bias to convoluted tensor\n",
    "    conv = tf.nn.bias_add(conv, biases)\n",
    "    \n",
    "    # add activation function\n",
    "    conv_output = tf.nn.relu(conv)\n",
    "    \n",
    "    # apply max pooling to output image\n",
    "    pool_size   = [1, pool_ksize[0], pool_ksize[1], 1]\n",
    "    pool_stride = [1, pool_strides[0], pool_strides[1], 1]\n",
    "    \n",
    "    conv_max_pool = tf.nn.max_pool(conv_output, ksize = pool_size, strides = pool_stride, padding = 'SAME')\n",
    "            \n",
    "    return conv_max_pool\n",
    "\n",
    "\"\"\"\n",
    "DON'T MODIFY ANYTHING IN THIS CELL THAT IS BELOW THIS LINE\n",
    "\"\"\"\n",
    "tests.test_con_pool(conv2d_maxpool)"
   ]
  },
  {
   "cell_type": "markdown",
   "metadata": {
    "deletable": true,
    "editable": true
   },
   "source": [
    "### Flatten Layer\n",
    "Implement the `flatten` function to change the dimension of `x_tensor` from a 4-D tensor to a 2-D tensor.  The output should be the shape (*Batch Size*, *Flattened Image Size*). Shortcut option: you can use classes from the [TensorFlow Layers](https://www.tensorflow.org/api_docs/python/tf/layers) or [TensorFlow Layers (contrib)](https://www.tensorflow.org/api_guides/python/contrib.layers) packages for this layer. For more of a challenge, only use other TensorFlow packages."
   ]
  },
  {
   "cell_type": "code",
   "execution_count": 27,
   "metadata": {
    "collapsed": false,
    "deletable": true,
    "editable": true
   },
   "outputs": [
    {
     "name": "stdout",
     "output_type": "stream",
     "text": [
      "Tests Passed\n"
     ]
    }
   ],
   "source": [
    "def flatten(x_tensor):\n",
    "    \"\"\"\n",
    "    Flatten x_tensor to (Batch Size, Flattened Image Size)\n",
    "    : x_tensor: A tensor of size (Batch Size, ...), where ... are the image dimensions.\n",
    "    : return: A tensor of size (Batch Size, Flattened Image Size).\n",
    "    \"\"\"\n",
    "    \n",
    "    [batch_size, height, width, depth] = x_tensor.get_shape().as_list()\n",
    "    \n",
    "    # tranform from 3-D to 1-D tensor\n",
    "    transformed_tensor = tf.reshape(x_tensor, [-1, height * width * depth])\n",
    "                \n",
    "    return transformed_tensor\n",
    "\n",
    "\"\"\"\n",
    "DON'T MODIFY ANYTHING IN THIS CELL THAT IS BELOW THIS LINE\n",
    "\"\"\"\n",
    "tests.test_flatten(flatten)"
   ]
  },
  {
   "cell_type": "markdown",
   "metadata": {
    "deletable": true,
    "editable": true
   },
   "source": [
    "### Fully-Connected Layer\n",
    "Implement the `fully_conn` function to apply a fully connected layer to `x_tensor` with the shape (*Batch Size*, *num_outputs*). Shortcut option: you can use classes from the [TensorFlow Layers](https://www.tensorflow.org/api_docs/python/tf/layers) or [TensorFlow Layers (contrib)](https://www.tensorflow.org/api_guides/python/contrib.layers) packages for this layer. For more of a challenge, only use other TensorFlow packages."
   ]
  },
  {
   "cell_type": "code",
   "execution_count": 28,
   "metadata": {
    "collapsed": false,
    "deletable": true,
    "editable": true
   },
   "outputs": [
    {
     "name": "stdout",
     "output_type": "stream",
     "text": [
      "Tests Passed\n"
     ]
    }
   ],
   "source": [
    "def fully_conn(x_tensor, num_outputs):\n",
    "    \"\"\"\n",
    "    Apply a fully connected layer to x_tensor using weight and bias\n",
    "    : x_tensor: A 2-D tensor where the first dimension is batch size.\n",
    "    : num_outputs: The number of output that the new tensor should be.\n",
    "    : return: A 2-D tensor where the second dimension is num_outputs.\n",
    "    \"\"\"\n",
    "    # get the tensor shape [Batch_size, input_size]\n",
    "    tensor_shape = x_tensor.get_shape().as_list()\n",
    "    \n",
    "    # init weights [input x output] and biases [output]\n",
    "    weights = tf.Variable(tf.truncated_normal([tensor_shape[-1], num_outputs], mean = 0.0, stddev = 0.14))\n",
    "    \n",
    "    biases  = tf.Variable(tf.zeros([num_outputs]))\n",
    "    \n",
    "    # add the output layer\n",
    "    connected_layer = tf.add(tf.matmul(x_tensor, weights), biases)\n",
    "    \n",
    "    return tf.nn.relu(connected_layer)\n",
    "\n",
    "\"\"\"\n",
    "DON'T MODIFY ANYTHING IN THIS CELL THAT IS BELOW THIS LINE\n",
    "\"\"\"\n",
    "tests.test_fully_conn(fully_conn)"
   ]
  },
  {
   "cell_type": "markdown",
   "metadata": {
    "deletable": true,
    "editable": true
   },
   "source": [
    "### Output Layer\n",
    "Implement the `output` function to apply a fully connected layer to `x_tensor` with the shape (*Batch Size*, *num_outputs*). Shortcut option: you can use classes from the [TensorFlow Layers](https://www.tensorflow.org/api_docs/python/tf/layers) or [TensorFlow Layers (contrib)](https://www.tensorflow.org/api_guides/python/contrib.layers) packages for this layer. For more of a challenge, only use other TensorFlow packages.\n",
    "\n",
    "**Note:** Activation, softmax, or cross entropy should **not** be applied to this."
   ]
  },
  {
   "cell_type": "code",
   "execution_count": 29,
   "metadata": {
    "collapsed": false,
    "deletable": true,
    "editable": true
   },
   "outputs": [
    {
     "name": "stdout",
     "output_type": "stream",
     "text": [
      "Tests Passed\n"
     ]
    }
   ],
   "source": [
    "def output(x_tensor, num_outputs):\n",
    "    \"\"\"\n",
    "    Apply a output layer to x_tensor using weight and bias\n",
    "    : x_tensor: A 2-D tensor where the first dimension is batch size.\n",
    "    : num_outputs: The number of output that the new tensor should be.\n",
    "    : return: A 2-D tensor where the second dimension is num_outputs.\n",
    "    \"\"\"\n",
    "    \n",
    "    # get the tensor shape [Batch_size, input_size]\n",
    "    tensor_shape = x_tensor.get_shape().as_list()\n",
    "    \n",
    "    # init weights and biases\n",
    "    weights = tf.Variable(tf.truncated_normal([tensor_shape[-1], num_outputs], mean = 0.0, stddev = 0.2))\n",
    "    \n",
    "    biases  = tf.Variable(tf.zeros(num_outputs))\n",
    "    \n",
    "    # add the output layer\n",
    "    output_layer = tf.add(tf.matmul(x_tensor, weights), biases)\n",
    "        \n",
    "    # return the output layer\n",
    "    return output_layer\n",
    "\n",
    "\"\"\"\n",
    "DON'T MODIFY ANYTHING IN THIS CELL THAT IS BELOW THIS LINE\n",
    "\"\"\"\n",
    "tests.test_output(output)"
   ]
  },
  {
   "cell_type": "markdown",
   "metadata": {
    "deletable": true,
    "editable": true
   },
   "source": [
    "### Create Convolutional Model\n",
    "Implement the function `conv_net` to create a convolutional neural network model. The function takes in a batch of images, `x`, and outputs logits.  Use the layers you created above to create this model:\n",
    "\n",
    "* Apply 1, 2, or 3 Convolution and Max Pool layers\n",
    "* Apply a Flatten Layer\n",
    "* Apply 1, 2, or 3 Fully Connected Layers\n",
    "* Apply an Output Layer\n",
    "* Return the output\n",
    "* Apply [TensorFlow's Dropout](https://www.tensorflow.org/api_docs/python/tf/nn/dropout) to one or more layers in the model using `keep_prob`. "
   ]
  },
  {
   "cell_type": "code",
   "execution_count": 49,
   "metadata": {
    "collapsed": false,
    "deletable": true,
    "editable": true
   },
   "outputs": [
    {
     "name": "stdout",
     "output_type": "stream",
     "text": [
      "Neural Network Built!\n"
     ]
    }
   ],
   "source": [
    "def conv_net(x, keep_prob):\n",
    "    \"\"\"\n",
    "    Create a convolutional neural network model\n",
    "    : x: Placeholder tensor that holds image data.\n",
    "    : keep_prob: Placeholder tensor that hold dropout keep probability.\n",
    "    : return: Tensor that represents logits\n",
    "    \"\"\"\n",
    "    # TODO: Apply 1, 2, or 3 Convolution and Max Pool layers\n",
    "    #    Play around with different number of outputs, kernel size and stride\n",
    "    # Function Definition from Above:\n",
    "    #    conv2d_maxpool(x_tensor, conv_num_outputs, conv_ksize, conv_strides, pool_ksize, pool_strides)\n",
    "    \n",
    "    conv_num_outputs = [32, 64, 128]\n",
    "    conv_ksize       = (4, 4)\n",
    "    conv_strides     = (1,1)\n",
    "    pool_ksize       = (2, 2)\n",
    "    pool_strides     = (2, 2)\n",
    "    num_outputs      = 10\n",
    "    \n",
    "    # layer-1: convolution\n",
    "    conv_layer1 = conv2d_maxpool(x, conv_num_outputs[0], conv_ksize, conv_strides, pool_ksize, pool_strides)\n",
    "        \n",
    "    # layer-2: convolution\n",
    "    conv_layer2  = conv2d_maxpool(conv_layer1, conv_num_outputs[1], conv_ksize, conv_strides, pool_ksize, pool_strides)\n",
    "    \n",
    "    # layer-3: convolution\n",
    "    conv_layer3  = conv2d_maxpool(conv_layer2, conv_num_outputs[2], conv_ksize, conv_strides, pool_ksize, pool_strides)\n",
    "        \n",
    "    # TODO: Apply a Flatten Layer\n",
    "    # Function Definition from Above:\n",
    "    #   flatten(x_tensor)\n",
    "    \n",
    "    # flatten tensor to convert to fully connected layers\n",
    "    conv_layer3_flat = flatten(conv_layer3)\n",
    "                \n",
    "    # TODO: Apply 1, 2, or 3 Fully Connected Layers\n",
    "    #    Play around with different number of outputs\n",
    "    # Function Definition from Above:\n",
    "    #   fully_conn(x_tensor, num_outputs)\n",
    "    \n",
    "    conn_layer1 = fully_conn(conv_layer3_flat, 1024)\n",
    "    conn_layer1 = tf.nn.dropout(conn_layer1, keep_prob)\n",
    "        \n",
    "    conn_layer2 = fully_conn(conn_layer1, 512)\n",
    "    conn_layer2 = tf.nn.dropout(conn_layer2, keep_prob)\n",
    "    \n",
    "    #conn_layer3 = fully_conn(conn_layer2, 1024)\n",
    "    #conn_layer3 = tf.nn.dropout(conn_layer3, keep_prob)\n",
    "    \n",
    "    # TODO: Apply an Output Layer\n",
    "    #    Set this to the number of classes\n",
    "    # Function Definition from Above:\n",
    "    #   output(x_tensor, num_outputs)\n",
    "    \n",
    "    output_layer = output(conn_layer2, num_outputs)\n",
    "    \n",
    "    # return output\n",
    "    return output_layer\n",
    "\n",
    "\n",
    "\"\"\"\n",
    "DON'T MODIFY ANYTHING IN THIS CELL THAT IS BELOW THIS LINE\n",
    "\"\"\"\n",
    "\n",
    "##############################\n",
    "## Build the Neural Network ##\n",
    "##############################\n",
    "\n",
    "# Remove previous weights, bias, inputs, etc..\n",
    "tf.reset_default_graph()\n",
    "\n",
    "# Inputs\n",
    "x = neural_net_image_input((32, 32, 3))\n",
    "y = neural_net_label_input(10)\n",
    "keep_prob = neural_net_keep_prob_input()\n",
    "\n",
    "# Model\n",
    "logits = conv_net(x, keep_prob)\n",
    "\n",
    "# Name logits Tensor, so that is can be loaded from disk after training\n",
    "logits = tf.identity(logits, name='logits')\n",
    "\n",
    "# Loss and Optimizer\n",
    "cost = tf.reduce_mean(tf.nn.softmax_cross_entropy_with_logits(logits=logits, labels=y))\n",
    "optimizer = tf.train.AdamOptimizer().minimize(cost)\n",
    "\n",
    "# Accuracy\n",
    "correct_pred = tf.equal(tf.argmax(logits, 1), tf.argmax(y, 1))\n",
    "accuracy = tf.reduce_mean(tf.cast(correct_pred, tf.float32), name='accuracy')\n",
    "\n",
    "tests.test_conv_net(conv_net)"
   ]
  },
  {
   "cell_type": "markdown",
   "metadata": {
    "deletable": true,
    "editable": true
   },
   "source": [
    "## Train the Neural Network\n",
    "### Single Optimization\n",
    "Implement the function `train_neural_network` to do a single optimization.  The optimization should use `optimizer` to optimize in `session` with a `feed_dict` of the following:\n",
    "* `x` for image input\n",
    "* `y` for labels\n",
    "* `keep_prob` for keep probability for dropout\n",
    "\n",
    "This function will be called for each batch, so `tf.global_variables_initializer()` has already been called.\n",
    "\n",
    "Note: Nothing needs to be returned. This function is only optimizing the neural network."
   ]
  },
  {
   "cell_type": "code",
   "execution_count": 44,
   "metadata": {
    "collapsed": false,
    "deletable": true,
    "editable": true
   },
   "outputs": [
    {
     "name": "stdout",
     "output_type": "stream",
     "text": [
      "Tests Passed\n"
     ]
    }
   ],
   "source": [
    "def train_neural_network(session, optimizer, keep_probability, feature_batch, label_batch):\n",
    "    \"\"\"\n",
    "    Optimize the session on a batch of images and labels\n",
    "    : session: Current TensorFlow session\n",
    "    : optimizer: TensorFlow optimizer function\n",
    "    : keep_probability: keep probability\n",
    "    : feature_batch: Batch of Numpy image data\n",
    "    : label_batch: Batch of Numpy label data\n",
    "    \"\"\"\n",
    "    \n",
    "    # run optimizer to reduce cost\n",
    "    session.run(optimizer, feed_dict = {x: feature_batch, y: label_batch, keep_prob: keep_probability})\n",
    "\n",
    "\n",
    "\"\"\"\n",
    "DON'T MODIFY ANYTHING IN THIS CELL THAT IS BELOW THIS LINE\n",
    "\"\"\"\n",
    "tests.test_train_nn(train_neural_network)"
   ]
  },
  {
   "cell_type": "markdown",
   "metadata": {
    "deletable": true,
    "editable": true
   },
   "source": [
    "### Show Stats\n",
    "Implement the function `print_stats` to print loss and validation accuracy.  Use the global variables `valid_features` and `valid_labels` to calculate validation accuracy.  Use a keep probability of `1.0` to calculate the loss and validation accuracy."
   ]
  },
  {
   "cell_type": "code",
   "execution_count": 45,
   "metadata": {
    "collapsed": false,
    "deletable": true,
    "editable": true
   },
   "outputs": [],
   "source": [
    "def print_stats(session, feature_batch, label_batch, cost, accuracy):\n",
    "    \"\"\"\n",
    "    Print information about loss and validation accuracy\n",
    "    : session: Current TensorFlow session\n",
    "    : feature_batch: Batch of Numpy image data\n",
    "    : label_batch: Batch of Numpy label data\n",
    "    : cost: TensorFlow cost function\n",
    "    : accuracy: TensorFlow accuracy function\n",
    "    \"\"\"\n",
    "    \n",
    "    loss = session.run(cost, feed_dict = {x: feature_batch, y: label_batch, keep_prob: 1.})\n",
    "    \n",
    "    validation_accuracy = session.run(accuracy, \n",
    "                                      feed_dict = {x: valid_features, y: valid_labels, keep_prob: 1.})\n",
    "    \n",
    "    print('Loss: {:>10.4f}, Validation Accuracy: {:.6f} %'.format(loss, validation_accuracy * 100))"
   ]
  },
  {
   "cell_type": "markdown",
   "metadata": {
    "deletable": true,
    "editable": true
   },
   "source": [
    "### Hyperparameters\n",
    "Tune the following parameters:\n",
    "* Set `epochs` to the number of iterations until the network stops learning or start overfitting\n",
    "* Set `batch_size` to the highest number that your machine has memory for.  Most people set them to common sizes of memory:\n",
    " * 64\n",
    " * 128\n",
    " * 256\n",
    " * ...\n",
    "* Set `keep_probability` to the probability of keeping a node using dropout"
   ]
  },
  {
   "cell_type": "code",
   "execution_count": 47,
   "metadata": {
    "collapsed": true,
    "deletable": true,
    "editable": true
   },
   "outputs": [],
   "source": [
    "# TODO: Tune Parameters\n",
    "epochs = 50\n",
    "batch_size = 512\n",
    "keep_probability = 0.8"
   ]
  },
  {
   "cell_type": "markdown",
   "metadata": {
    "deletable": true,
    "editable": true
   },
   "source": [
    "### Train on a Single CIFAR-10 Batch\n",
    "Instead of training the neural network on all the CIFAR-10 batches of data, let's use a single batch. This should save time while you iterate on the model to get a better accuracy.  Once the final validation accuracy is 50% or greater, run the model on all the data in the next section."
   ]
  },
  {
   "cell_type": "code",
   "execution_count": 50,
   "metadata": {
    "collapsed": false,
    "deletable": true,
    "editable": true
   },
   "outputs": [
    {
     "name": "stdout",
     "output_type": "stream",
     "text": [
      "Checking the Training on a Single Batch...\n",
      "Epoch  1, CIFAR-10 Batch 1:  Loss:     2.2347, Validation Accuracy: 24.839999 %\n",
      "Epoch  2, CIFAR-10 Batch 1:  Loss:     1.9624, Validation Accuracy: 32.399997 %\n",
      "Epoch  3, CIFAR-10 Batch 1:  Loss:     1.7808, Validation Accuracy: 36.739999 %\n",
      "Epoch  4, CIFAR-10 Batch 1:  Loss:     1.6309, Validation Accuracy: 39.279997 %\n",
      "Epoch  5, CIFAR-10 Batch 1:  Loss:     1.4845, Validation Accuracy: 42.680001 %\n",
      "Epoch  6, CIFAR-10 Batch 1:  Loss:     1.3332, Validation Accuracy: 44.779995 %\n",
      "Epoch  7, CIFAR-10 Batch 1:  Loss:     1.1991, Validation Accuracy: 46.199992 %\n",
      "Epoch  8, CIFAR-10 Batch 1:  Loss:     1.0597, Validation Accuracy: 48.839998 %\n",
      "Epoch  9, CIFAR-10 Batch 1:  Loss:     0.9658, Validation Accuracy: 48.959994 %\n",
      "Epoch 10, CIFAR-10 Batch 1:  Loss:     0.8222, Validation Accuracy: 50.519997 %\n",
      "Epoch 11, CIFAR-10 Batch 1:  Loss:     0.7017, Validation Accuracy: 50.999993 %\n",
      "Epoch 12, CIFAR-10 Batch 1:  Loss:     0.5694, Validation Accuracy: 52.679992 %\n",
      "Epoch 13, CIFAR-10 Batch 1:  Loss:     0.4714, Validation Accuracy: 53.979999 %\n",
      "Epoch 14, CIFAR-10 Batch 1:  Loss:     0.3824, Validation Accuracy: 53.919995 %\n",
      "Epoch 15, CIFAR-10 Batch 1:  Loss:     0.3243, Validation Accuracy: 53.059995 %\n",
      "Epoch 16, CIFAR-10 Batch 1:  Loss:     0.2603, Validation Accuracy: 53.199995 %\n",
      "Epoch 17, CIFAR-10 Batch 1:  Loss:     0.2473, Validation Accuracy: 51.899993 %\n",
      "Epoch 18, CIFAR-10 Batch 1:  Loss:     0.1854, Validation Accuracy: 52.979994 %\n",
      "Epoch 19, CIFAR-10 Batch 1:  Loss:     0.1738, Validation Accuracy: 53.959996 %\n",
      "Epoch 20, CIFAR-10 Batch 1:  Loss:     0.1637, Validation Accuracy: 52.899998 %\n",
      "Epoch 21, CIFAR-10 Batch 1:  Loss:     0.1623, Validation Accuracy: 51.079988 %\n",
      "Epoch 22, CIFAR-10 Batch 1:  Loss:     0.1208, Validation Accuracy: 53.519994 %\n",
      "Epoch 23, CIFAR-10 Batch 1:  Loss:     0.0897, Validation Accuracy: 53.999990 %\n",
      "Epoch 24, CIFAR-10 Batch 1:  Loss:     0.0807, Validation Accuracy: 53.899997 %\n",
      "Epoch 25, CIFAR-10 Batch 1:  Loss:     0.0792, Validation Accuracy: 54.359996 %\n",
      "Epoch 26, CIFAR-10 Batch 1:  Loss:     0.0724, Validation Accuracy: 52.719992 %\n",
      "Epoch 27, CIFAR-10 Batch 1:  Loss:     0.0835, Validation Accuracy: 50.859994 %\n",
      "Epoch 28, CIFAR-10 Batch 1:  Loss:     0.0657, Validation Accuracy: 51.999998 %\n",
      "Epoch 29, CIFAR-10 Batch 1:  Loss:     0.0411, Validation Accuracy: 54.599994 %\n",
      "Epoch 30, CIFAR-10 Batch 1:  Loss:     0.0291, Validation Accuracy: 54.099995 %\n",
      "Epoch 31, CIFAR-10 Batch 1:  Loss:     0.0225, Validation Accuracy: 54.799986 %\n",
      "Epoch 32, CIFAR-10 Batch 1:  Loss:     0.0207, Validation Accuracy: 54.099989 %\n",
      "Epoch 33, CIFAR-10 Batch 1:  Loss:     0.0227, Validation Accuracy: 53.439987 %\n",
      "Epoch 34, CIFAR-10 Batch 1:  Loss:     0.0329, Validation Accuracy: 51.779997 %\n",
      "Epoch 35, CIFAR-10 Batch 1:  Loss:     0.0157, Validation Accuracy: 54.599994 %\n",
      "Epoch 36, CIFAR-10 Batch 1:  Loss:     0.0090, Validation Accuracy: 55.619991 %\n",
      "Epoch 37, CIFAR-10 Batch 1:  Loss:     0.0124, Validation Accuracy: 53.399992 %\n",
      "Epoch 38, CIFAR-10 Batch 1:  Loss:     0.0079, Validation Accuracy: 53.839993 %\n",
      "Epoch 39, CIFAR-10 Batch 1:  Loss:     0.0104, Validation Accuracy: 54.399991 %\n",
      "Epoch 40, CIFAR-10 Batch 1:  Loss:     0.0057, Validation Accuracy: 54.619992 %\n",
      "Epoch 41, CIFAR-10 Batch 1:  Loss:     0.0041, Validation Accuracy: 54.999989 %\n",
      "Epoch 42, CIFAR-10 Batch 1:  Loss:     0.0024, Validation Accuracy: 55.059993 %\n",
      "Epoch 43, CIFAR-10 Batch 1:  Loss:     0.0024, Validation Accuracy: 55.539989 %\n",
      "Epoch 44, CIFAR-10 Batch 1:  Loss:     0.0020, Validation Accuracy: 55.259991 %\n",
      "Epoch 45, CIFAR-10 Batch 1:  Loss:     0.0011, Validation Accuracy: 55.459988 %\n",
      "Epoch 46, CIFAR-10 Batch 1:  Loss:     0.0012, Validation Accuracy: 55.479991 %\n",
      "Epoch 47, CIFAR-10 Batch 1:  Loss:     0.0012, Validation Accuracy: 55.779994 %\n",
      "Epoch 48, CIFAR-10 Batch 1:  Loss:     0.0009, Validation Accuracy: 55.499995 %\n",
      "Epoch 49, CIFAR-10 Batch 1:  Loss:     0.0011, Validation Accuracy: 55.459994 %\n",
      "Epoch 50, CIFAR-10 Batch 1:  Loss:     0.0009, Validation Accuracy: 55.959994 %\n"
     ]
    }
   ],
   "source": [
    "\"\"\"\n",
    "DON'T MODIFY ANYTHING IN THIS CELL\n",
    "\"\"\"\n",
    "print('Checking the Training on a Single Batch...')\n",
    "with tf.Session() as sess:\n",
    "    # Initializing the variables\n",
    "    sess.run(tf.global_variables_initializer())\n",
    "    \n",
    "    # Training cycle\n",
    "    for epoch in range(epochs):\n",
    "        batch_i = 1\n",
    "        for batch_features, batch_labels in helper.load_preprocess_training_batch(batch_i, batch_size):\n",
    "            train_neural_network(sess, optimizer, keep_probability, batch_features, batch_labels)\n",
    "        print('Epoch {:>2}, CIFAR-10 Batch {}:  '.format(epoch + 1, batch_i), end='')\n",
    "        print_stats(sess, batch_features, batch_labels, cost, accuracy)"
   ]
  },
  {
   "cell_type": "code",
   "execution_count": 51,
   "metadata": {
    "collapsed": true,
    "deletable": true,
    "editable": true
   },
   "outputs": [],
   "source": [
    "# Set parameters for full training set\n",
    "epochs = 50\n",
    "batch_size = 512\n",
    "keep_probability = 0.8"
   ]
  },
  {
   "cell_type": "markdown",
   "metadata": {
    "deletable": true,
    "editable": true
   },
   "source": [
    "### Fully Train the Model\n",
    "Now that you got a good accuracy with a single CIFAR-10 batch, try it with all five batches."
   ]
  },
  {
   "cell_type": "code",
   "execution_count": 52,
   "metadata": {
    "collapsed": false,
    "deletable": true,
    "editable": true
   },
   "outputs": [
    {
     "name": "stdout",
     "output_type": "stream",
     "text": [
      "Training...\n",
      "Epoch  1, CIFAR-10 Batch 1:  Loss:     2.3307, Validation Accuracy: 19.000000 %\n",
      "Epoch  1, CIFAR-10 Batch 2:  Loss:     1.9978, Validation Accuracy: 30.719998 %\n",
      "Epoch  1, CIFAR-10 Batch 3:  Loss:     1.6778, Validation Accuracy: 37.300003 %\n",
      "Epoch  1, CIFAR-10 Batch 4:  Loss:     1.5668, Validation Accuracy: 42.639998 %\n",
      "Epoch  1, CIFAR-10 Batch 5:  Loss:     1.5478, Validation Accuracy: 44.919994 %\n",
      "Epoch  2, CIFAR-10 Batch 1:  Loss:     1.5718, Validation Accuracy: 46.319994 %\n",
      "Epoch  2, CIFAR-10 Batch 2:  Loss:     1.4909, Validation Accuracy: 46.599996 %\n",
      "Epoch  2, CIFAR-10 Batch 3:  Loss:     1.2667, Validation Accuracy: 48.100001 %\n",
      "Epoch  2, CIFAR-10 Batch 4:  Loss:     1.2314, Validation Accuracy: 50.679994 %\n",
      "Epoch  2, CIFAR-10 Batch 5:  Loss:     1.2626, Validation Accuracy: 51.119995 %\n",
      "Epoch  3, CIFAR-10 Batch 1:  Loss:     1.3620, Validation Accuracy: 52.459997 %\n",
      "Epoch  3, CIFAR-10 Batch 2:  Loss:     1.2460, Validation Accuracy: 52.679992 %\n",
      "Epoch  3, CIFAR-10 Batch 3:  Loss:     1.0967, Validation Accuracy: 52.539992 %\n",
      "Epoch  3, CIFAR-10 Batch 4:  Loss:     1.0536, Validation Accuracy: 54.459989 %\n",
      "Epoch  3, CIFAR-10 Batch 5:  Loss:     1.0671, Validation Accuracy: 55.419993 %\n",
      "Epoch  4, CIFAR-10 Batch 1:  Loss:     1.1895, Validation Accuracy: 55.979997 %\n",
      "Epoch  4, CIFAR-10 Batch 2:  Loss:     1.1106, Validation Accuracy: 55.599993 %\n",
      "Epoch  4, CIFAR-10 Batch 3:  Loss:     0.9674, Validation Accuracy: 56.639993 %\n",
      "Epoch  4, CIFAR-10 Batch 4:  Loss:     0.9314, Validation Accuracy: 56.279987 %\n",
      "Epoch  4, CIFAR-10 Batch 5:  Loss:     0.9316, Validation Accuracy: 57.899994 %\n",
      "Epoch  5, CIFAR-10 Batch 1:  Loss:     1.0422, Validation Accuracy: 58.019996 %\n",
      "Epoch  5, CIFAR-10 Batch 2:  Loss:     1.0097, Validation Accuracy: 57.079989 %\n",
      "Epoch  5, CIFAR-10 Batch 3:  Loss:     0.8370, Validation Accuracy: 58.339995 %\n",
      "Epoch  5, CIFAR-10 Batch 4:  Loss:     0.7806, Validation Accuracy: 59.359986 %\n",
      "Epoch  5, CIFAR-10 Batch 5:  Loss:     0.8031, Validation Accuracy: 59.499991 %\n",
      "Epoch  6, CIFAR-10 Batch 1:  Loss:     0.9118, Validation Accuracy: 59.519988 %\n",
      "Epoch  6, CIFAR-10 Batch 2:  Loss:     0.9350, Validation Accuracy: 55.759996 %\n",
      "Epoch  6, CIFAR-10 Batch 3:  Loss:     0.7563, Validation Accuracy: 59.079993 %\n",
      "Epoch  6, CIFAR-10 Batch 4:  Loss:     0.6685, Validation Accuracy: 61.559987 %\n",
      "Epoch  6, CIFAR-10 Batch 5:  Loss:     0.7023, Validation Accuracy: 59.839988 %\n",
      "Epoch  7, CIFAR-10 Batch 1:  Loss:     0.7858, Validation Accuracy: 60.679990 %\n",
      "Epoch  7, CIFAR-10 Batch 2:  Loss:     0.8230, Validation Accuracy: 56.359994 %\n",
      "Epoch  7, CIFAR-10 Batch 3:  Loss:     0.6734, Validation Accuracy: 59.879994 %\n",
      "Epoch  7, CIFAR-10 Batch 4:  Loss:     0.5861, Validation Accuracy: 61.599988 %\n",
      "Epoch  7, CIFAR-10 Batch 5:  Loss:     0.6244, Validation Accuracy: 60.999990 %\n",
      "Epoch  8, CIFAR-10 Batch 1:  Loss:     0.7063, Validation Accuracy: 60.999995 %\n",
      "Epoch  8, CIFAR-10 Batch 2:  Loss:     0.7388, Validation Accuracy: 57.099992 %\n",
      "Epoch  8, CIFAR-10 Batch 3:  Loss:     0.6083, Validation Accuracy: 60.479993 %\n",
      "Epoch  8, CIFAR-10 Batch 4:  Loss:     0.5129, Validation Accuracy: 61.059994 %\n",
      "Epoch  8, CIFAR-10 Batch 5:  Loss:     0.5477, Validation Accuracy: 61.159992 %\n",
      "Epoch  9, CIFAR-10 Batch 1:  Loss:     0.5989, Validation Accuracy: 62.259996 %\n",
      "Epoch  9, CIFAR-10 Batch 2:  Loss:     0.6361, Validation Accuracy: 59.319997 %\n",
      "Epoch  9, CIFAR-10 Batch 3:  Loss:     0.4999, Validation Accuracy: 61.439991 %\n",
      "Epoch  9, CIFAR-10 Batch 4:  Loss:     0.5108, Validation Accuracy: 60.539991 %\n",
      "Epoch  9, CIFAR-10 Batch 5:  Loss:     0.4895, Validation Accuracy: 61.579984 %\n",
      "Epoch 10, CIFAR-10 Batch 1:  Loss:     0.4908, Validation Accuracy: 61.659992 %\n",
      "Epoch 10, CIFAR-10 Batch 2:  Loss:     0.5505, Validation Accuracy: 61.199993 %\n",
      "Epoch 10, CIFAR-10 Batch 3:  Loss:     0.4578, Validation Accuracy: 61.399984 %\n",
      "Epoch 10, CIFAR-10 Batch 4:  Loss:     0.4015, Validation Accuracy: 61.519992 %\n",
      "Epoch 10, CIFAR-10 Batch 5:  Loss:     0.4267, Validation Accuracy: 62.899989 %\n",
      "Epoch 11, CIFAR-10 Batch 1:  Loss:     0.4505, Validation Accuracy: 61.099988 %\n",
      "Epoch 11, CIFAR-10 Batch 2:  Loss:     0.4825, Validation Accuracy: 61.279988 %\n",
      "Epoch 11, CIFAR-10 Batch 3:  Loss:     0.3581, Validation Accuracy: 62.779987 %\n",
      "Epoch 11, CIFAR-10 Batch 4:  Loss:     0.3288, Validation Accuracy: 62.839991 %\n",
      "Epoch 11, CIFAR-10 Batch 5:  Loss:     0.3539, Validation Accuracy: 62.559998 %\n",
      "Epoch 12, CIFAR-10 Batch 1:  Loss:     0.4077, Validation Accuracy: 60.499990 %\n",
      "Epoch 12, CIFAR-10 Batch 2:  Loss:     0.4571, Validation Accuracy: 61.059994 %\n",
      "Epoch 12, CIFAR-10 Batch 3:  Loss:     0.3162, Validation Accuracy: 62.919986 %\n",
      "Epoch 12, CIFAR-10 Batch 4:  Loss:     0.2983, Validation Accuracy: 62.579995 %\n",
      "Epoch 12, CIFAR-10 Batch 5:  Loss:     0.3122, Validation Accuracy: 62.939990 %\n",
      "Epoch 13, CIFAR-10 Batch 1:  Loss:     0.3126, Validation Accuracy: 62.559992 %\n",
      "Epoch 13, CIFAR-10 Batch 2:  Loss:     0.3670, Validation Accuracy: 60.519987 %\n",
      "Epoch 13, CIFAR-10 Batch 3:  Loss:     0.3060, Validation Accuracy: 62.419993 %\n",
      "Epoch 13, CIFAR-10 Batch 4:  Loss:     0.2652, Validation Accuracy: 62.779987 %\n",
      "Epoch 13, CIFAR-10 Batch 5:  Loss:     0.2704, Validation Accuracy: 63.279998 %\n",
      "Epoch 14, CIFAR-10 Batch 1:  Loss:     0.2724, Validation Accuracy: 62.259990 %\n",
      "Epoch 14, CIFAR-10 Batch 2:  Loss:     0.2800, Validation Accuracy: 62.739992 %\n",
      "Epoch 14, CIFAR-10 Batch 3:  Loss:     0.2396, Validation Accuracy: 62.659991 %\n",
      "Epoch 14, CIFAR-10 Batch 4:  Loss:     0.2340, Validation Accuracy: 61.739987 %\n",
      "Epoch 14, CIFAR-10 Batch 5:  Loss:     0.2058, Validation Accuracy: 62.999988 %\n",
      "Epoch 15, CIFAR-10 Batch 1:  Loss:     0.2353, Validation Accuracy: 62.239993 %\n",
      "Epoch 15, CIFAR-10 Batch 2:  Loss:     0.2330, Validation Accuracy: 63.739985 %\n",
      "Epoch 15, CIFAR-10 Batch 3:  Loss:     0.1942, Validation Accuracy: 62.519991 %\n",
      "Epoch 15, CIFAR-10 Batch 4:  Loss:     0.1904, Validation Accuracy: 62.059993 %\n",
      "Epoch 15, CIFAR-10 Batch 5:  Loss:     0.2015, Validation Accuracy: 62.879992 %\n",
      "Epoch 16, CIFAR-10 Batch 1:  Loss:     0.2054, Validation Accuracy: 62.459987 %\n",
      "Epoch 16, CIFAR-10 Batch 2:  Loss:     0.2142, Validation Accuracy: 63.079989 %\n",
      "Epoch 16, CIFAR-10 Batch 3:  Loss:     0.1483, Validation Accuracy: 63.239992 %\n",
      "Epoch 16, CIFAR-10 Batch 4:  Loss:     0.1611, Validation Accuracy: 61.639988 %\n",
      "Epoch 16, CIFAR-10 Batch 5:  Loss:     0.2220, Validation Accuracy: 60.599995 %\n",
      "Epoch 17, CIFAR-10 Batch 1:  Loss:     0.1627, Validation Accuracy: 62.599987 %\n",
      "Epoch 17, CIFAR-10 Batch 2:  Loss:     0.1922, Validation Accuracy: 62.819993 %\n",
      "Epoch 17, CIFAR-10 Batch 3:  Loss:     0.1642, Validation Accuracy: 61.639994 %\n",
      "Epoch 17, CIFAR-10 Batch 4:  Loss:     0.1559, Validation Accuracy: 62.719995 %\n",
      "Epoch 17, CIFAR-10 Batch 5:  Loss:     0.1977, Validation Accuracy: 61.699992 %\n",
      "Epoch 18, CIFAR-10 Batch 1:  Loss:     0.1592, Validation Accuracy: 62.099993 %\n",
      "Epoch 18, CIFAR-10 Batch 2:  Loss:     0.1730, Validation Accuracy: 63.439989 %\n",
      "Epoch 18, CIFAR-10 Batch 3:  Loss:     0.1413, Validation Accuracy: 61.659992 %\n",
      "Epoch 18, CIFAR-10 Batch 4:  Loss:     0.1353, Validation Accuracy: 64.019990 %\n",
      "Epoch 18, CIFAR-10 Batch 5:  Loss:     0.1697, Validation Accuracy: 62.439996 %\n",
      "Epoch 19, CIFAR-10 Batch 1:  Loss:     0.1591, Validation Accuracy: 62.299997 %\n",
      "Epoch 19, CIFAR-10 Batch 2:  Loss:     0.1392, Validation Accuracy: 63.759983 %\n",
      "Epoch 19, CIFAR-10 Batch 3:  Loss:     0.1052, Validation Accuracy: 61.739993 %\n",
      "Epoch 19, CIFAR-10 Batch 4:  Loss:     0.0821, Validation Accuracy: 63.139987 %\n",
      "Epoch 19, CIFAR-10 Batch 5:  Loss:     0.1208, Validation Accuracy: 62.679994 %\n",
      "Epoch 20, CIFAR-10 Batch 1:  Loss:     0.1137, Validation Accuracy: 63.299990 %\n",
      "Epoch 20, CIFAR-10 Batch 2:  Loss:     0.1005, Validation Accuracy: 63.539994 %\n",
      "Epoch 20, CIFAR-10 Batch 3:  Loss:     0.0934, Validation Accuracy: 62.279993 %\n",
      "Epoch 20, CIFAR-10 Batch 4:  Loss:     0.0742, Validation Accuracy: 62.299991 %\n",
      "Epoch 20, CIFAR-10 Batch 5:  Loss:     0.1231, Validation Accuracy: 62.439996 %\n",
      "Epoch 21, CIFAR-10 Batch 1:  Loss:     0.1027, Validation Accuracy: 62.459987 %\n",
      "Epoch 21, CIFAR-10 Batch 2:  Loss:     0.0939, Validation Accuracy: 63.139987 %\n",
      "Epoch 21, CIFAR-10 Batch 3:  Loss:     0.0802, Validation Accuracy: 62.899989 %\n",
      "Epoch 21, CIFAR-10 Batch 4:  Loss:     0.0845, Validation Accuracy: 62.419987 %\n",
      "Epoch 21, CIFAR-10 Batch 5:  Loss:     0.0965, Validation Accuracy: 63.419992 %\n",
      "Epoch 22, CIFAR-10 Batch 1:  Loss:     0.0668, Validation Accuracy: 63.099986 %\n",
      "Epoch 22, CIFAR-10 Batch 2:  Loss:     0.0719, Validation Accuracy: 63.439983 %\n",
      "Epoch 22, CIFAR-10 Batch 3:  Loss:     0.0627, Validation Accuracy: 63.399982 %\n",
      "Epoch 22, CIFAR-10 Batch 4:  Loss:     0.0753, Validation Accuracy: 63.159984 %\n",
      "Epoch 22, CIFAR-10 Batch 5:  Loss:     0.0606, Validation Accuracy: 64.799988 %\n",
      "Epoch 23, CIFAR-10 Batch 1:  Loss:     0.0778, Validation Accuracy: 60.939991 %\n",
      "Epoch 23, CIFAR-10 Batch 2:  Loss:     0.0755, Validation Accuracy: 62.859988 %\n",
      "Epoch 23, CIFAR-10 Batch 3:  Loss:     0.0469, Validation Accuracy: 63.819987 %\n",
      "Epoch 23, CIFAR-10 Batch 4:  Loss:     0.0569, Validation Accuracy: 62.859994 %\n",
      "Epoch 23, CIFAR-10 Batch 5:  Loss:     0.0630, Validation Accuracy: 63.279986 %\n",
      "Epoch 24, CIFAR-10 Batch 1:  Loss:     0.0384, Validation Accuracy: 64.519989 %\n",
      "Epoch 24, CIFAR-10 Batch 2:  Loss:     0.0628, Validation Accuracy: 62.819993 %\n",
      "Epoch 24, CIFAR-10 Batch 3:  Loss:     0.0365, Validation Accuracy: 64.639986 %\n",
      "Epoch 24, CIFAR-10 Batch 4:  Loss:     0.0400, Validation Accuracy: 63.799989 %\n",
      "Epoch 24, CIFAR-10 Batch 5:  Loss:     0.0519, Validation Accuracy: 62.519991 %\n",
      "Epoch 25, CIFAR-10 Batch 1:  Loss:     0.0380, Validation Accuracy: 63.439989 %\n",
      "Epoch 25, CIFAR-10 Batch 2:  Loss:     0.0545, Validation Accuracy: 63.579988 %\n",
      "Epoch 25, CIFAR-10 Batch 3:  Loss:     0.0304, Validation Accuracy: 65.039992 %\n",
      "Epoch 25, CIFAR-10 Batch 4:  Loss:     0.0420, Validation Accuracy: 64.479989 %\n",
      "Epoch 25, CIFAR-10 Batch 5:  Loss:     0.0413, Validation Accuracy: 62.739992 %\n",
      "Epoch 26, CIFAR-10 Batch 1:  Loss:     0.0375, Validation Accuracy: 64.939994 %\n",
      "Epoch 26, CIFAR-10 Batch 2:  Loss:     0.0343, Validation Accuracy: 63.019985 %\n",
      "Epoch 26, CIFAR-10 Batch 3:  Loss:     0.0243, Validation Accuracy: 62.919986 %\n",
      "Epoch 26, CIFAR-10 Batch 4:  Loss:     0.0314, Validation Accuracy: 64.159989 %\n",
      "Epoch 26, CIFAR-10 Batch 5:  Loss:     0.0371, Validation Accuracy: 62.719989 %\n",
      "Epoch 27, CIFAR-10 Batch 1:  Loss:     0.0351, Validation Accuracy: 63.419986 %\n",
      "Epoch 27, CIFAR-10 Batch 2:  Loss:     0.0328, Validation Accuracy: 63.399994 %\n",
      "Epoch 27, CIFAR-10 Batch 3:  Loss:     0.0324, Validation Accuracy: 63.579988 %\n",
      "Epoch 27, CIFAR-10 Batch 4:  Loss:     0.0420, Validation Accuracy: 62.339991 %\n",
      "Epoch 27, CIFAR-10 Batch 5:  Loss:     0.0290, Validation Accuracy: 64.619988 %\n",
      "Epoch 28, CIFAR-10 Batch 1:  Loss:     0.0281, Validation Accuracy: 64.159989 %\n",
      "Epoch 28, CIFAR-10 Batch 2:  Loss:     0.0321, Validation Accuracy: 65.139991 %\n",
      "Epoch 28, CIFAR-10 Batch 3:  Loss:     0.0331, Validation Accuracy: 63.479990 %\n",
      "Epoch 28, CIFAR-10 Batch 4:  Loss:     0.0346, Validation Accuracy: 61.479998 %\n",
      "Epoch 28, CIFAR-10 Batch 5:  Loss:     0.0301, Validation Accuracy: 63.899988 %\n",
      "Epoch 29, CIFAR-10 Batch 1:  Loss:     0.0253, Validation Accuracy: 64.379990 %\n",
      "Epoch 29, CIFAR-10 Batch 2:  Loss:     0.0291, Validation Accuracy: 64.139986 %\n",
      "Epoch 29, CIFAR-10 Batch 3:  Loss:     0.0433, Validation Accuracy: 62.139988 %\n",
      "Epoch 29, CIFAR-10 Batch 4:  Loss:     0.0433, Validation Accuracy: 60.499996 %\n",
      "Epoch 29, CIFAR-10 Batch 5:  Loss:     0.0365, Validation Accuracy: 63.399988 %\n",
      "Epoch 30, CIFAR-10 Batch 1:  Loss:     0.0297, Validation Accuracy: 63.359994 %\n",
      "Epoch 30, CIFAR-10 Batch 2:  Loss:     0.0289, Validation Accuracy: 63.119990 %\n",
      "Epoch 30, CIFAR-10 Batch 3:  Loss:     0.0329, Validation Accuracy: 63.379991 %\n",
      "Epoch 30, CIFAR-10 Batch 4:  Loss:     0.0360, Validation Accuracy: 61.619991 %\n",
      "Epoch 30, CIFAR-10 Batch 5:  Loss:     0.0260, Validation Accuracy: 61.119992 %\n",
      "Epoch 31, CIFAR-10 Batch 1:  Loss:     0.0216, Validation Accuracy: 63.479990 %\n",
      "Epoch 31, CIFAR-10 Batch 2:  Loss:     0.0227, Validation Accuracy: 63.919985 %\n",
      "Epoch 31, CIFAR-10 Batch 3:  Loss:     0.0234, Validation Accuracy: 63.819993 %\n",
      "Epoch 31, CIFAR-10 Batch 4:  Loss:     0.0389, Validation Accuracy: 61.539990 %\n",
      "Epoch 31, CIFAR-10 Batch 5:  Loss:     0.0146, Validation Accuracy: 64.159989 %\n",
      "Epoch 32, CIFAR-10 Batch 1:  Loss:     0.0203, Validation Accuracy: 63.179994 %\n",
      "Epoch 32, CIFAR-10 Batch 2:  Loss:     0.0241, Validation Accuracy: 63.319987 %\n",
      "Epoch 32, CIFAR-10 Batch 3:  Loss:     0.0228, Validation Accuracy: 63.119990 %\n",
      "Epoch 32, CIFAR-10 Batch 4:  Loss:     0.0383, Validation Accuracy: 62.719989 %\n",
      "Epoch 32, CIFAR-10 Batch 5:  Loss:     0.0182, Validation Accuracy: 62.779993 %\n",
      "Epoch 33, CIFAR-10 Batch 1:  Loss:     0.0115, Validation Accuracy: 64.119995 %\n",
      "Epoch 33, CIFAR-10 Batch 2:  Loss:     0.0172, Validation Accuracy: 64.399993 %\n",
      "Epoch 33, CIFAR-10 Batch 3:  Loss:     0.0203, Validation Accuracy: 64.099985 %\n",
      "Epoch 33, CIFAR-10 Batch 4:  Loss:     0.0244, Validation Accuracy: 63.439989 %\n",
      "Epoch 33, CIFAR-10 Batch 5:  Loss:     0.0237, Validation Accuracy: 61.759990 %\n",
      "Epoch 34, CIFAR-10 Batch 1:  Loss:     0.0145, Validation Accuracy: 63.979995 %\n",
      "Epoch 34, CIFAR-10 Batch 2:  Loss:     0.0155, Validation Accuracy: 62.939990 %\n",
      "Epoch 34, CIFAR-10 Batch 3:  Loss:     0.0149, Validation Accuracy: 64.419985 %\n",
      "Epoch 34, CIFAR-10 Batch 4:  Loss:     0.0079, Validation Accuracy: 64.499986 %\n",
      "Epoch 34, CIFAR-10 Batch 5:  Loss:     0.0112, Validation Accuracy: 63.779992 %\n",
      "Epoch 35, CIFAR-10 Batch 1:  Loss:     0.0221, Validation Accuracy: 63.739991 %\n",
      "Epoch 35, CIFAR-10 Batch 2:  Loss:     0.0120, Validation Accuracy: 63.579988 %\n",
      "Epoch 35, CIFAR-10 Batch 3:  Loss:     0.0125, Validation Accuracy: 63.399988 %\n",
      "Epoch 35, CIFAR-10 Batch 4:  Loss:     0.0099, Validation Accuracy: 64.239985 %\n",
      "Epoch 35, CIFAR-10 Batch 5:  Loss:     0.0162, Validation Accuracy: 64.619988 %\n",
      "Epoch 36, CIFAR-10 Batch 1:  Loss:     0.0066, Validation Accuracy: 64.139986 %\n",
      "Epoch 36, CIFAR-10 Batch 2:  Loss:     0.0093, Validation Accuracy: 64.219987 %\n",
      "Epoch 36, CIFAR-10 Batch 3:  Loss:     0.0110, Validation Accuracy: 64.559990 %\n",
      "Epoch 36, CIFAR-10 Batch 4:  Loss:     0.0139, Validation Accuracy: 63.279986 %\n",
      "Epoch 36, CIFAR-10 Batch 5:  Loss:     0.0081, Validation Accuracy: 63.819987 %\n",
      "Epoch 37, CIFAR-10 Batch 1:  Loss:     0.0109, Validation Accuracy: 65.679991 %\n",
      "Epoch 37, CIFAR-10 Batch 2:  Loss:     0.0103, Validation Accuracy: 63.619995 %\n",
      "Epoch 37, CIFAR-10 Batch 3:  Loss:     0.0103, Validation Accuracy: 63.859987 %\n",
      "Epoch 37, CIFAR-10 Batch 4:  Loss:     0.0092, Validation Accuracy: 64.519989 %\n",
      "Epoch 37, CIFAR-10 Batch 5:  Loss:     0.0086, Validation Accuracy: 64.319992 %\n",
      "Epoch 38, CIFAR-10 Batch 1:  Loss:     0.0107, Validation Accuracy: 64.619988 %\n",
      "Epoch 38, CIFAR-10 Batch 2:  Loss:     0.0093, Validation Accuracy: 63.699991 %\n",
      "Epoch 38, CIFAR-10 Batch 3:  Loss:     0.0148, Validation Accuracy: 63.719988 %\n",
      "Epoch 38, CIFAR-10 Batch 4:  Loss:     0.0078, Validation Accuracy: 64.479989 %\n",
      "Epoch 38, CIFAR-10 Batch 5:  Loss:     0.0041, Validation Accuracy: 64.459985 %\n",
      "Epoch 39, CIFAR-10 Batch 1:  Loss:     0.0095, Validation Accuracy: 64.299989 %\n",
      "Epoch 39, CIFAR-10 Batch 2:  Loss:     0.0087, Validation Accuracy: 63.379991 %\n",
      "Epoch 39, CIFAR-10 Batch 3:  Loss:     0.0096, Validation Accuracy: 63.639987 %\n",
      "Epoch 39, CIFAR-10 Batch 4:  Loss:     0.0103, Validation Accuracy: 64.499992 %\n",
      "Epoch 39, CIFAR-10 Batch 5:  Loss:     0.0162, Validation Accuracy: 63.639987 %\n",
      "Epoch 40, CIFAR-10 Batch 1:  Loss:     0.0081, Validation Accuracy: 64.439988 %\n",
      "Epoch 40, CIFAR-10 Batch 2:  Loss:     0.0081, Validation Accuracy: 63.339990 %\n",
      "Epoch 40, CIFAR-10 Batch 3:  Loss:     0.0046, Validation Accuracy: 63.299990 %\n",
      "Epoch 40, CIFAR-10 Batch 4:  Loss:     0.0143, Validation Accuracy: 63.819987 %\n",
      "Epoch 40, CIFAR-10 Batch 5:  Loss:     0.0079, Validation Accuracy: 63.419992 %\n",
      "Epoch 41, CIFAR-10 Batch 1:  Loss:     0.0060, Validation Accuracy: 64.479989 %\n",
      "Epoch 41, CIFAR-10 Batch 2:  Loss:     0.0051, Validation Accuracy: 63.219988 %\n",
      "Epoch 41, CIFAR-10 Batch 3:  Loss:     0.0106, Validation Accuracy: 61.879987 %\n",
      "Epoch 41, CIFAR-10 Batch 4:  Loss:     0.0081, Validation Accuracy: 63.619989 %\n",
      "Epoch 41, CIFAR-10 Batch 5:  Loss:     0.0062, Validation Accuracy: 64.919990 %\n",
      "Epoch 42, CIFAR-10 Batch 1:  Loss:     0.0049, Validation Accuracy: 64.819992 %\n",
      "Epoch 42, CIFAR-10 Batch 2:  Loss:     0.0059, Validation Accuracy: 64.659995 %\n",
      "Epoch 42, CIFAR-10 Batch 3:  Loss:     0.0055, Validation Accuracy: 63.659990 %\n",
      "Epoch 42, CIFAR-10 Batch 4:  Loss:     0.0047, Validation Accuracy: 64.599991 %\n",
      "Epoch 42, CIFAR-10 Batch 5:  Loss:     0.0059, Validation Accuracy: 64.699990 %\n",
      "Epoch 43, CIFAR-10 Batch 1:  Loss:     0.0035, Validation Accuracy: 65.979987 %\n",
      "Epoch 43, CIFAR-10 Batch 2:  Loss:     0.0050, Validation Accuracy: 64.839989 %\n",
      "Epoch 43, CIFAR-10 Batch 3:  Loss:     0.0055, Validation Accuracy: 64.019990 %\n",
      "Epoch 43, CIFAR-10 Batch 4:  Loss:     0.0051, Validation Accuracy: 63.619989 %\n",
      "Epoch 43, CIFAR-10 Batch 5:  Loss:     0.0046, Validation Accuracy: 64.699990 %\n",
      "Epoch 44, CIFAR-10 Batch 1:  Loss:     0.0038, Validation Accuracy: 64.519989 %\n",
      "Epoch 44, CIFAR-10 Batch 2:  Loss:     0.0064, Validation Accuracy: 64.779991 %\n",
      "Epoch 44, CIFAR-10 Batch 3:  Loss:     0.0053, Validation Accuracy: 64.939982 %\n",
      "Epoch 44, CIFAR-10 Batch 4:  Loss:     0.0074, Validation Accuracy: 63.039994 %\n",
      "Epoch 44, CIFAR-10 Batch 5:  Loss:     0.0044, Validation Accuracy: 64.979988 %\n",
      "Epoch 45, CIFAR-10 Batch 1:  Loss:     0.0034, Validation Accuracy: 65.759993 %\n",
      "Epoch 45, CIFAR-10 Batch 2:  Loss:     0.0065, Validation Accuracy: 63.899988 %\n",
      "Epoch 45, CIFAR-10 Batch 3:  Loss:     0.0038, Validation Accuracy: 64.939988 %\n",
      "Epoch 45, CIFAR-10 Batch 4:  Loss:     0.0074, Validation Accuracy: 64.959991 %\n",
      "Epoch 45, CIFAR-10 Batch 5:  Loss:     0.0038, Validation Accuracy: 65.819985 %\n",
      "Epoch 46, CIFAR-10 Batch 1:  Loss:     0.0039, Validation Accuracy: 64.399987 %\n",
      "Epoch 46, CIFAR-10 Batch 2:  Loss:     0.0159, Validation Accuracy: 62.719989 %\n",
      "Epoch 46, CIFAR-10 Batch 3:  Loss:     0.0038, Validation Accuracy: 65.019989 %\n",
      "Epoch 46, CIFAR-10 Batch 4:  Loss:     0.0055, Validation Accuracy: 64.859986 %\n",
      "Epoch 46, CIFAR-10 Batch 5:  Loss:     0.0045, Validation Accuracy: 64.779985 %\n",
      "Epoch 47, CIFAR-10 Batch 1:  Loss:     0.0072, Validation Accuracy: 65.779984 %\n",
      "Epoch 47, CIFAR-10 Batch 2:  Loss:     0.0017, Validation Accuracy: 63.959986 %\n",
      "Epoch 47, CIFAR-10 Batch 3:  Loss:     0.0029, Validation Accuracy: 64.019984 %\n",
      "Epoch 47, CIFAR-10 Batch 4:  Loss:     0.0050, Validation Accuracy: 64.219987 %\n",
      "Epoch 47, CIFAR-10 Batch 5:  Loss:     0.0050, Validation Accuracy: 63.599992 %\n",
      "Epoch 48, CIFAR-10 Batch 1:  Loss:     0.0028, Validation Accuracy: 64.699990 %\n",
      "Epoch 48, CIFAR-10 Batch 2:  Loss:     0.0024, Validation Accuracy: 65.439987 %\n",
      "Epoch 48, CIFAR-10 Batch 3:  Loss:     0.0064, Validation Accuracy: 63.579994 %\n",
      "Epoch 48, CIFAR-10 Batch 4:  Loss:     0.0027, Validation Accuracy: 64.059991 %\n",
      "Epoch 48, CIFAR-10 Batch 5:  Loss:     0.0033, Validation Accuracy: 64.279985 %\n",
      "Epoch 49, CIFAR-10 Batch 1:  Loss:     0.0047, Validation Accuracy: 64.739990 %\n",
      "Epoch 49, CIFAR-10 Batch 2:  Loss:     0.0020, Validation Accuracy: 64.939988 %\n",
      "Epoch 49, CIFAR-10 Batch 3:  Loss:     0.0117, Validation Accuracy: 62.559992 %\n",
      "Epoch 49, CIFAR-10 Batch 4:  Loss:     0.0046, Validation Accuracy: 64.139986 %\n",
      "Epoch 49, CIFAR-10 Batch 5:  Loss:     0.0024, Validation Accuracy: 64.559996 %\n",
      "Epoch 50, CIFAR-10 Batch 1:  Loss:     0.0040, Validation Accuracy: 65.439993 %\n",
      "Epoch 50, CIFAR-10 Batch 2:  Loss:     0.0032, Validation Accuracy: 64.879990 %\n",
      "Epoch 50, CIFAR-10 Batch 3:  Loss:     0.0083, Validation Accuracy: 62.919986 %\n",
      "Epoch 50, CIFAR-10 Batch 4:  Loss:     0.0042, Validation Accuracy: 64.579988 %\n",
      "Epoch 50, CIFAR-10 Batch 5:  Loss:     0.0056, Validation Accuracy: 65.579987 %\n"
     ]
    }
   ],
   "source": [
    "\"\"\"\n",
    "DON'T MODIFY ANYTHING IN THIS CELL\n",
    "\"\"\"\n",
    "save_model_path = './image_classification'\n",
    "\n",
    "print('Training...')\n",
    "with tf.Session() as sess:\n",
    "    # Initializing the variables\n",
    "    sess.run(tf.global_variables_initializer())\n",
    "    \n",
    "    # Training cycle\n",
    "    for epoch in range(epochs):\n",
    "        # Loop over all batches\n",
    "        n_batches = 5\n",
    "        for batch_i in range(1, n_batches + 1):\n",
    "            for batch_features, batch_labels in helper.load_preprocess_training_batch(batch_i, batch_size):\n",
    "                train_neural_network(sess, optimizer, keep_probability, batch_features, batch_labels)\n",
    "            print('Epoch {:>2}, CIFAR-10 Batch {}:  '.format(epoch + 1, batch_i), end='')\n",
    "            print_stats(sess, batch_features, batch_labels, cost, accuracy)\n",
    "            \n",
    "    # Save Model\n",
    "    saver = tf.train.Saver()\n",
    "    save_path = saver.save(sess, save_model_path)"
   ]
  },
  {
   "cell_type": "markdown",
   "metadata": {
    "deletable": true,
    "editable": true
   },
   "source": [
    "# Checkpoint\n",
    "The model has been saved to disk.\n",
    "## Test Model\n",
    "Test your model against the test dataset.  This will be your final accuracy. You should have an accuracy greater than 50%. If you don't, keep tweaking the model architecture and parameters."
   ]
  },
  {
   "cell_type": "code",
   "execution_count": 53,
   "metadata": {
    "collapsed": false,
    "deletable": true,
    "editable": true
   },
   "outputs": [
    {
     "name": "stdout",
     "output_type": "stream",
     "text": [
      "Testing Accuracy: 0.6534696698188782\n",
      "\n"
     ]
    },
    {
     "data": {
      "image/png": "[encoded data removed]",
      "text/plain": [
       "<matplotlib.figure.Figure at 0x7f1f3ac99f60>"
      ]
     },
     "metadata": {
      "image/png": {
       "height": 319,
       "width": 355
      }
     },
     "output_type": "display_data"
    }
   ],
   "source": [
    "\"\"\"\n",
    "DON'T MODIFY ANYTHING IN THIS CELL\n",
    "\"\"\"\n",
    "%matplotlib inline\n",
    "%config InlineBackend.figure_format = 'retina'\n",
    "\n",
    "import tensorflow as tf\n",
    "import pickle\n",
    "import helper\n",
    "import random\n",
    "\n",
    "# Set batch size if not already set\n",
    "try:\n",
    "    if batch_size:\n",
    "        pass\n",
    "except NameError:\n",
    "    batch_size = 64\n",
    "\n",
    "save_model_path = './image_classification'\n",
    "n_samples = 4\n",
    "top_n_predictions = 3\n",
    "\n",
    "def test_model():\n",
    "    \"\"\"\n",
    "    Test the saved model against the test dataset\n",
    "    \"\"\"\n",
    "\n",
    "    test_features, test_labels = pickle.load(open('preprocess_training.p', mode='rb'))\n",
    "    loaded_graph = tf.Graph()\n",
    "\n",
    "    with tf.Session(graph=loaded_graph) as sess:\n",
    "        # Load model\n",
    "        loader = tf.train.import_meta_graph(save_model_path + '.meta')\n",
    "        loader.restore(sess, save_model_path)\n",
    "\n",
    "        # Get Tensors from loaded model\n",
    "        loaded_x = loaded_graph.get_tensor_by_name('x:0')\n",
    "        loaded_y = loaded_graph.get_tensor_by_name('y:0')\n",
    "        loaded_keep_prob = loaded_graph.get_tensor_by_name('keep_prob:0')\n",
    "        loaded_logits = loaded_graph.get_tensor_by_name('logits:0')\n",
    "        loaded_acc = loaded_graph.get_tensor_by_name('accuracy:0')\n",
    "        \n",
    "        # Get accuracy in batches for memory limitations\n",
    "        test_batch_acc_total = 0\n",
    "        test_batch_count = 0\n",
    "        \n",
    "        for train_feature_batch, train_label_batch in helper.batch_features_labels(test_features, test_labels, batch_size):\n",
    "            test_batch_acc_total += sess.run(\n",
    "                loaded_acc,\n",
    "                feed_dict={loaded_x: train_feature_batch, loaded_y: train_label_batch, loaded_keep_prob: 1.0})\n",
    "            test_batch_count += 1\n",
    "\n",
    "        print('Testing Accuracy: {}\\n'.format(test_batch_acc_total/test_batch_count))\n",
    "\n",
    "        # Print Random Samples\n",
    "        random_test_features, random_test_labels = tuple(zip(*random.sample(list(zip(test_features, test_labels)), n_samples)))\n",
    "        random_test_predictions = sess.run(\n",
    "            tf.nn.top_k(tf.nn.softmax(loaded_logits), top_n_predictions),\n",
    "            feed_dict={loaded_x: random_test_features, loaded_y: random_test_labels, loaded_keep_prob: 1.0})\n",
    "        helper.display_image_predictions(random_test_features, random_test_labels, random_test_predictions)\n",
    "\n",
    "\n",
    "test_model()"
   ]
  },
  {
   "cell_type": "markdown",
   "metadata": {
    "deletable": true,
    "editable": true
   },
   "source": [
    "## Why 50-80% Accuracy?\n",
    "You might be wondering why you can't get an accuracy any higher. First things first, 50% isn't bad for a simple CNN.  Pure guessing would get you 10% accuracy. However, you might notice people are getting scores [well above 80%](http://rodrigob.github.io/are_we_there_yet/build/classification_datasets_results.html#43494641522d3130).  That's because we haven't taught you all there is to know about neural networks. We still need to cover a few more techniques.\n",
    "## Submitting This Project\n",
    "When submitting this project, make sure to run all the cells before saving the notebook.  Save the notebook file as \"dlnd_image_classification.ipynb\" and save it as a HTML file under \"File\" -> \"Download as\".  Include the \"helper.py\" and \"problem_unittests.py\" files in your submission."
   ]
  }
 ],
 "metadata": {
  "kernelspec": {
   "display_name": "Python 3",
   "language": "python",
   "name": "python3"
  },
  "language_info": {
   "codemirror_mode": {
    "name": "ipython",
    "version": 3
   },
   "file_extension": ".py",
   "mimetype": "text/x-python",
   "name": "python",
   "nbconvert_exporter": "python",
   "pygments_lexer": "ipython3",
   "version": "3.5.2"
  },
  "widgets": {
   "state": {},
   "version": "1.1.2"
  }
 },
 "nbformat": 4,
 "nbformat_minor": 0
}
