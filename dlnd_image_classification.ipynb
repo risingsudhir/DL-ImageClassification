{
 "cells": [
  {
   "cell_type": "markdown",
   "metadata": {
    "collapsed": true,
    "deletable": true,
    "editable": true
   },
   "source": [
    "# Image Classification\n",
    "In this project, you'll classify images from the [CIFAR-10 dataset](https://www.cs.toronto.edu/~kriz/cifar.html).  The dataset consists of airplanes, dogs, cats, and other objects. You'll preprocess the images, then train a convolutional neural network on all the samples. The images need to be normalized and the labels need to be one-hot encoded.  You'll get to apply what you learned and build a convolutional, max pooling, dropout, and fully connected layers.  At the end, you'll get to see your neural network's predictions on the sample images.\n",
    "## Get the Data\n",
    "Run the following cell to download the [CIFAR-10 dataset for python](https://www.cs.toronto.edu/~kriz/cifar-10-python.tar.gz)."
   ]
  },
  {
   "cell_type": "code",
   "execution_count": 1,
   "metadata": {
    "collapsed": false,
    "deletable": true,
    "editable": true
   },
   "outputs": [
    {
     "name": "stdout",
     "output_type": "stream",
     "text": [
      "All files found!\n"
     ]
    }
   ],
   "source": [
    "\"\"\"\n",
    "DON'T MODIFY ANYTHING IN THIS CELL THAT IS BELOW THIS LINE\n",
    "\"\"\"\n",
    "from urllib.request import urlretrieve\n",
    "from os.path import isfile, isdir\n",
    "from tqdm import tqdm\n",
    "import problem_unittests as tests\n",
    "import tarfile\n",
    "\n",
    "cifar10_dataset_folder_path = 'cifar-10-batches-py'\n",
    "\n",
    "class DLProgress(tqdm):\n",
    "    last_block = 0\n",
    "\n",
    "    def hook(self, block_num=1, block_size=1, total_size=None):\n",
    "        self.total = total_size\n",
    "        self.update((block_num - self.last_block) * block_size)\n",
    "        self.last_block = block_num\n",
    "\n",
    "if not isfile('cifar-10-python.tar.gz'):\n",
    "    with DLProgress(unit='B', unit_scale=True, miniters=1, desc='CIFAR-10 Dataset') as pbar:\n",
    "        urlretrieve(\n",
    "            'https://www.cs.toronto.edu/~kriz/cifar-10-python.tar.gz',\n",
    "            'cifar-10-python.tar.gz',\n",
    "            pbar.hook)\n",
    "\n",
    "if not isdir(cifar10_dataset_folder_path):\n",
    "    with tarfile.open('cifar-10-python.tar.gz') as tar:\n",
    "        tar.extractall()\n",
    "        tar.close()\n",
    "\n",
    "\n",
    "tests.test_folder_path(cifar10_dataset_folder_path)"
   ]
  },
  {
   "cell_type": "markdown",
   "metadata": {
    "deletable": true,
    "editable": true
   },
   "source": [
    "## Explore the Data\n",
    "The dataset is broken into batches to prevent your machine from running out of memory.  The CIFAR-10 dataset consists of 5 batches, named `data_batch_1`, `data_batch_2`, etc.. Each batch contains the labels and images that are one of the following:\n",
    "* airplane\n",
    "* automobile\n",
    "* bird\n",
    "* cat\n",
    "* deer\n",
    "* dog\n",
    "* frog\n",
    "* horse\n",
    "* ship\n",
    "* truck\n",
    "\n",
    "Understanding a dataset is part of making predictions on the data.  Play around with the code cell below by changing the `batch_id` and `sample_id`. The `batch_id` is the id for a batch (1-5). The `sample_id` is the id for a image and label pair in the batch.\n",
    "\n",
    "Ask yourself \"What are all possible labels?\", \"What is the range of values for the image data?\", \"Are the labels in order or random?\".  Answers to questions like these will help you preprocess the data and end up with better predictions."
   ]
  },
  {
   "cell_type": "code",
   "execution_count": 2,
   "metadata": {
    "collapsed": false,
    "deletable": true,
    "editable": true
   },
   "outputs": [
    {
     "name": "stdout",
     "output_type": "stream",
     "text": [
      "\n",
      "Stats of batch 2:\n",
      "Samples: 10000\n",
      "Label Counts: {0: 984, 1: 1007, 2: 1010, 3: 995, 4: 1010, 5: 988, 6: 1008, 7: 1026, 8: 987, 9: 985}\n",
      "First 20 Labels: [1, 6, 6, 8, 8, 3, 4, 6, 0, 6, 0, 3, 6, 6, 5, 4, 8, 3, 2, 6]\n",
      "\n",
      "Example of Image 45:\n",
      "Image - Min Value: 19 Max Value: 255\n",
      "Image - Shape: (32, 32, 3)\n",
      "Label - Label Id: 7 Name: horse\n"
     ]
    },
    {
     "data": {
      "image/png": "[encoded data removed]",
      "text/plain": [
       "<matplotlib.figure.Figure at 0x7fbca41a3630>"
      ]
     },
     "metadata": {
      "image/png": {
       "height": 250,
       "width": 253
      }
     },
     "output_type": "display_data"
    }
   ],
   "source": [
    "%matplotlib inline\n",
    "%config InlineBackend.figure_format = 'retina'\n",
    "\n",
    "import helper\n",
    "import numpy as np\n",
    "\n",
    "# Explore the dataset\n",
    "batch_id = 2\n",
    "sample_id = 45\n",
    "helper.display_stats(cifar10_dataset_folder_path, batch_id, sample_id)"
   ]
  },
  {
   "cell_type": "markdown",
   "metadata": {
    "deletable": true,
    "editable": true
   },
   "source": [
    "## Implement Preprocess Functions\n",
    "### Normalize\n",
    "In the cell below, implement the `normalize` function to take in image data, `x`, and return it as a normalized Numpy array. The values should be in the range of 0 to 1, inclusive.  The return object should be the same shape as `x`."
   ]
  },
  {
   "cell_type": "code",
   "execution_count": 3,
   "metadata": {
    "collapsed": false,
    "deletable": true,
    "editable": true
   },
   "outputs": [
    {
     "name": "stdout",
     "output_type": "stream",
     "text": [
      "Tests Passed\n"
     ]
    }
   ],
   "source": [
    "def normalize(x):\n",
    "    \"\"\"\n",
    "    Normalize a list of sample image data in the range of 0 to 1\n",
    "    : x: List of image data.  The image shape is (32, 32, 3)\n",
    "    : return: Numpy array of normalize data\n",
    "    \"\"\"\n",
    "    # normalize the data in range [0, 1]\n",
    "    min_x = x.min()\n",
    "    max_x = x.max()\n",
    "    \n",
    "    return (x - min_x) / (max_x - min_x)\n",
    "\n",
    "\"\"\"\n",
    "DON'T MODIFY ANYTHING IN THIS CELL THAT IS BELOW THIS LINE\n",
    "\"\"\"\n",
    "tests.test_normalize(normalize)"
   ]
  },
  {
   "cell_type": "markdown",
   "metadata": {
    "deletable": true,
    "editable": true
   },
   "source": [
    "### One-hot encode\n",
    "Just like the previous code cell, you'll be implementing a function for preprocessing.  This time, you'll implement the `one_hot_encode` function. The input, `x`, are a list of labels.  Implement the function to return the list of labels as One-Hot encoded Numpy array.  The possible values for labels are 0 to 9. The one-hot encoding function should return the same encoding for each value between each call to `one_hot_encode`.  Make sure to save the map of encodings outside the function.\n",
    "\n",
    "Hint: Don't reinvent the wheel."
   ]
  },
  {
   "cell_type": "code",
   "execution_count": 4,
   "metadata": {
    "collapsed": false,
    "deletable": true,
    "editable": true
   },
   "outputs": [
    {
     "name": "stdout",
     "output_type": "stream",
     "text": [
      "Tests Passed\n"
     ]
    }
   ],
   "source": [
    "label_encoding = np.eye(10)\n",
    "\n",
    "def one_hot_encode(x):\n",
    "    \"\"\"\n",
    "    One hot encode a list of sample labels. Return a one-hot encoded vector for each label.\n",
    "    : x: List of sample Labels\n",
    "    : return: Numpy array of one-hot encoded labels\n",
    "    \"\"\"\n",
    "            \n",
    "    return label_encoding[x]\n",
    "\n",
    "\"\"\"\n",
    "DON'T MODIFY ANYTHING IN THIS CELL THAT IS BELOW THIS LINE\n",
    "\"\"\"\n",
    "tests.test_one_hot_encode(one_hot_encode)"
   ]
  },
  {
   "cell_type": "markdown",
   "metadata": {
    "deletable": true,
    "editable": true
   },
   "source": [
    "### Randomize Data\n",
    "As you saw from exploring the data above, the order of the samples are randomized.  It doesn't hurt to randomize it again, but you don't need to for this dataset."
   ]
  },
  {
   "cell_type": "markdown",
   "metadata": {
    "deletable": true,
    "editable": true
   },
   "source": [
    "## Preprocess all the data and save it\n",
    "Running the code cell below will preprocess all the CIFAR-10 data and save it to file. The code below also uses 10% of the training data for validation."
   ]
  },
  {
   "cell_type": "code",
   "execution_count": 18,
   "metadata": {
    "collapsed": false,
    "deletable": true,
    "editable": true
   },
   "outputs": [],
   "source": [
    "\"\"\"\n",
    "DON'T MODIFY ANYTHING IN THIS CELL\n",
    "\"\"\"\n",
    "# Preprocess Training, Validation, and Testing Data\n",
    "helper.preprocess_and_save_data(cifar10_dataset_folder_path, normalize, one_hot_encode)"
   ]
  },
  {
   "cell_type": "markdown",
   "metadata": {
    "deletable": true,
    "editable": true
   },
   "source": [
    "# Check Point\n",
    "This is your first checkpoint.  If you ever decide to come back to this notebook or have to restart the notebook, you can start from here.  The preprocessed data has been saved to disk."
   ]
  },
  {
   "cell_type": "code",
   "execution_count": 19,
   "metadata": {
    "collapsed": true,
    "deletable": true,
    "editable": true
   },
   "outputs": [],
   "source": [
    "\"\"\"\n",
    "DON'T MODIFY ANYTHING IN THIS CELL\n",
    "\"\"\"\n",
    "import pickle\n",
    "import problem_unittests as tests\n",
    "import helper\n",
    "\n",
    "# Load the Preprocessed Validation data\n",
    "valid_features, valid_labels = pickle.load(open('preprocess_validation.p', mode='rb'))"
   ]
  },
  {
   "cell_type": "markdown",
   "metadata": {
    "deletable": true,
    "editable": true
   },
   "source": [
    "## Build the network\n",
    "For the neural network, you'll build each layer into a function.  Most of the code you've seen has been outside of functions. To test your code more thoroughly, we require that you put each layer in a function.  This allows us to give you better feedback and test for simple mistakes using our unittests before you submit your project.\n",
    "\n",
    ">**Note:** If you're finding it hard to dedicate enough time for this course each week, we've provided a small shortcut to this part of the project. In the next couple of problems, you'll have the option to use classes from the [TensorFlow Layers](https://www.tensorflow.org/api_docs/python/tf/layers) or [TensorFlow Layers (contrib)](https://www.tensorflow.org/api_guides/python/contrib.layers) packages to build each layer, except the layers you build in the \"Convolutional and Max Pooling Layer\" section.  TF Layers is similar to Keras's and TFLearn's abstraction to layers, so it's easy to pickup.\n",
    "\n",
    ">However, if you would like to get the most out of this course, try to solve all the problems _without_ using anything from the TF Layers packages. You **can** still use classes from other packages that happen to have the same name as ones you find in TF Layers! For example, instead of using the TF Layers version of the `conv2d` class, [tf.layers.conv2d](https://www.tensorflow.org/api_docs/python/tf/layers/conv2d), you would want to use the TF Neural Network version of `conv2d`, [tf.nn.conv2d](https://www.tensorflow.org/api_docs/python/tf/nn/conv2d). \n",
    "\n",
    "Let's begin!\n",
    "\n",
    "### Input\n",
    "The neural network needs to read the image data, one-hot encoded labels, and dropout keep probability. Implement the following functions\n",
    "* Implement `neural_net_image_input`\n",
    " * Return a [TF Placeholder](https://www.tensorflow.org/api_docs/python/tf/placeholder)\n",
    " * Set the shape using `image_shape` with batch size set to `None`.\n",
    " * Name the TensorFlow placeholder \"x\" using the TensorFlow `name` parameter in the [TF Placeholder](https://www.tensorflow.org/api_docs/python/tf/placeholder).\n",
    "* Implement `neural_net_label_input`\n",
    " * Return a [TF Placeholder](https://www.tensorflow.org/api_docs/python/tf/placeholder)\n",
    " * Set the shape using `n_classes` with batch size set to `None`.\n",
    " * Name the TensorFlow placeholder \"y\" using the TensorFlow `name` parameter in the [TF Placeholder](https://www.tensorflow.org/api_docs/python/tf/placeholder).\n",
    "* Implement `neural_net_keep_prob_input`\n",
    " * Return a [TF Placeholder](https://www.tensorflow.org/api_docs/python/tf/placeholder) for dropout keep probability.\n",
    " * Name the TensorFlow placeholder \"keep_prob\" using the TensorFlow `name` parameter in the [TF Placeholder](https://www.tensorflow.org/api_docs/python/tf/placeholder).\n",
    "\n",
    "These names will be used at the end of the project to load your saved model.\n",
    "\n",
    "Note: `None` for shapes in TensorFlow allow for a dynamic size."
   ]
  },
  {
   "cell_type": "code",
   "execution_count": 6,
   "metadata": {
    "collapsed": false,
    "deletable": true,
    "editable": true
   },
   "outputs": [
    {
     "name": "stdout",
     "output_type": "stream",
     "text": [
      "Image Input Tests Passed.\n",
      "Label Input Tests Passed.\n",
      "Keep Prob Tests Passed.\n"
     ]
    }
   ],
   "source": [
    "import tensorflow as tf\n",
    "import numpy as np\n",
    "\n",
    "def neural_net_image_input(image_shape):\n",
    "    \"\"\"\n",
    "    Return a Tensor for a batch of image input\n",
    "    : image_shape: Shape of the images\n",
    "    : return: Tensor for image input.\n",
    "    \"\"\"\n",
    "    \n",
    "    # image is of shapre 32x32x3. Keep 4d tensor to accept input [batch_size, height, width, depth]\n",
    "    return tf.placeholder(tf.float32,[None, image_shape[0], image_shape[1], image_shape[2]], name ='x')\n",
    "\n",
    "\n",
    "def neural_net_label_input(n_classes):\n",
    "    \"\"\"\n",
    "    Return a Tensor for a batch of label input\n",
    "    : n_classes: Number of classes\n",
    "    : return: Tensor for label input.\n",
    "    \"\"\"\n",
    "    \n",
    "    return tf.placeholder(tf.float32, [None, n_classes], name = 'y')\n",
    "\n",
    "\n",
    "def neural_net_keep_prob_input():\n",
    "    \"\"\"\n",
    "    Return a Tensor for keep probability\n",
    "    : return: Tensor for keep probability.\n",
    "    \"\"\"\n",
    "    \n",
    "    return tf.placeholder(tf.float32, name = 'keep_prob')\n",
    "\n",
    "\n",
    "\"\"\"\n",
    "DON'T MODIFY ANYTHING IN THIS CELL THAT IS BELOW THIS LINE\n",
    "\"\"\"\n",
    "tf.reset_default_graph()\n",
    "tests.test_nn_image_inputs(neural_net_image_input)\n",
    "tests.test_nn_label_inputs(neural_net_label_input)\n",
    "tests.test_nn_keep_prob_inputs(neural_net_keep_prob_input)"
   ]
  },
  {
   "cell_type": "markdown",
   "metadata": {
    "deletable": true,
    "editable": true
   },
   "source": [
    "### Convolution and Max Pooling Layer\n",
    "Convolution layers have a lot of success with images. For this code cell, you should implement the function `conv2d_maxpool` to apply convolution then max pooling:\n",
    "* Create the weight and bias using `conv_ksize`, `conv_num_outputs` and the shape of `x_tensor`.\n",
    "* Apply a convolution to `x_tensor` using weight and `conv_strides`.\n",
    " * We recommend you use same padding, but you're welcome to use any padding.\n",
    "* Add bias\n",
    "* Add a nonlinear activation to the convolution.\n",
    "* Apply Max Pooling using `pool_ksize` and `pool_strides`.\n",
    " * We recommend you use same padding, but you're welcome to use any padding.\n",
    "\n",
    "**Note:** You **can't** use [TensorFlow Layers](https://www.tensorflow.org/api_docs/python/tf/layers) or [TensorFlow Layers (contrib)](https://www.tensorflow.org/api_guides/python/contrib.layers) for **this** layer, but you can still use TensorFlow's [Neural Network](https://www.tensorflow.org/api_docs/python/tf/nn) package. You may still use the shortcut option for all the **other** layers."
   ]
  },
  {
   "cell_type": "code",
   "execution_count": 100,
   "metadata": {
    "collapsed": false,
    "deletable": true,
    "editable": true
   },
   "outputs": [
    {
     "name": "stdout",
     "output_type": "stream",
     "text": [
      "Tests Passed\n"
     ]
    }
   ],
   "source": [
    "def conv2d_maxpool(x_tensor, conv_num_outputs, conv_ksize, conv_strides, pool_ksize, pool_strides):\n",
    "    \"\"\"\n",
    "    Apply convolution then max pooling to x_tensor\n",
    "    :param x_tensor: TensorFlow Tensor\n",
    "    :param conv_num_outputs: Number of outputs for the convolutional layer\n",
    "    :param conv_ksize: kernal size 2-D Tuple for the convolutional layer\n",
    "    :param conv_strides: Stride 2-D Tuple for convolution\n",
    "    :param pool_ksize: kernal size 2-D Tuple for pool\n",
    "    :param pool_strides: Stride 2-D Tuple for pool\n",
    "    : return: A tensor that represents convolution and max pooling of x_tensor\n",
    "    \"\"\"\n",
    "            \n",
    "    # get the input image shape - [height, width, depth]\n",
    "    input_shape  = x_tensor.get_shape()\n",
    "    input_height = int(input_shape[1])\n",
    "    input_width  =  int(input_shape[2])\n",
    "    input_depth  = int(input_shape[3])\n",
    "    \n",
    "    # calculate output image height and width\n",
    "    # new_size = (input_size - kernel_size + 2 * padding)/ strides + 1\n",
    "    #new_height = int((input_height - conv_ksize[0]) / conv_strides[0]) + 1\n",
    "    #new_width  = int((input_width - conv_ksize[1]) / conv_strides[1]) + 1\n",
    "    \n",
    "    new_height = conv_ksize[0]\n",
    "    new_width  = conv_ksize[1]\n",
    "    \n",
    "    # init weights and biases for input tensor\n",
    "    weights = tf.Variable(tf.truncated_normal([new_height, new_width, input_depth, conv_num_outputs]))\n",
    "    \n",
    "    biases  = tf.Variable(tf.zeros(conv_num_outputs))\n",
    "    \n",
    "    # perform convolution to input image\n",
    "    conv = tf.nn.conv2d(x_tensor, weights, strides = [1, conv_strides[0], conv_strides[1], 1], padding = 'SAME')\n",
    "    \n",
    "    # add bias to convoluted tensor\n",
    "    conv = tf.nn.bias_add(conv, biases)\n",
    "    \n",
    "    # add activation function\n",
    "    conv = tf.nn.relu(conv)\n",
    "    \n",
    "    # apply max pooling to output image\n",
    "    conv = tf.nn.max_pool(conv, ksize = [1, pool_ksize[0], pool_ksize[1], 1], \n",
    "                         strides = [1, pool_strides[0], pool_strides[1], 1], padding = 'SAME')\n",
    "            \n",
    "    return conv\n",
    "\n",
    "\"\"\"\n",
    "DON'T MODIFY ANYTHING IN THIS CELL THAT IS BELOW THIS LINE\n",
    "\"\"\"\n",
    "tests.test_con_pool(conv2d_maxpool)"
   ]
  },
  {
   "cell_type": "markdown",
   "metadata": {
    "deletable": true,
    "editable": true
   },
   "source": [
    "### Flatten Layer\n",
    "Implement the `flatten` function to change the dimension of `x_tensor` from a 4-D tensor to a 2-D tensor.  The output should be the shape (*Batch Size*, *Flattened Image Size*). Shortcut option: you can use classes from the [TensorFlow Layers](https://www.tensorflow.org/api_docs/python/tf/layers) or [TensorFlow Layers (contrib)](https://www.tensorflow.org/api_guides/python/contrib.layers) packages for this layer. For more of a challenge, only use other TensorFlow packages."
   ]
  },
  {
   "cell_type": "code",
   "execution_count": 101,
   "metadata": {
    "collapsed": false,
    "deletable": true,
    "editable": true
   },
   "outputs": [
    {
     "name": "stdout",
     "output_type": "stream",
     "text": [
      "Tests Passed\n"
     ]
    }
   ],
   "source": [
    "def flatten(x_tensor):\n",
    "    \"\"\"\n",
    "    Flatten x_tensor to (Batch Size, Flattened Image Size)\n",
    "    : x_tensor: A tensor of size (Batch Size, ...), where ... are the image dimensions.\n",
    "    : return: A tensor of size (Batch Size, Flattened Image Size).\n",
    "    \"\"\"\n",
    "    \n",
    "    [batch_size, height, width, depth] = x_tensor.get_shape().as_list()\n",
    "    \n",
    "    # tranform from 3-D to 1-D tensor\n",
    "    transformed_tensor = tf.reshape(x_tensor, [-1, height * width * depth])\n",
    "                \n",
    "    return transformed_tensor\n",
    "\n",
    "\"\"\"\n",
    "DON'T MODIFY ANYTHING IN THIS CELL THAT IS BELOW THIS LINE\n",
    "\"\"\"\n",
    "tests.test_flatten(flatten)"
   ]
  },
  {
   "cell_type": "markdown",
   "metadata": {
    "deletable": true,
    "editable": true
   },
   "source": [
    "### Fully-Connected Layer\n",
    "Implement the `fully_conn` function to apply a fully connected layer to `x_tensor` with the shape (*Batch Size*, *num_outputs*). Shortcut option: you can use classes from the [TensorFlow Layers](https://www.tensorflow.org/api_docs/python/tf/layers) or [TensorFlow Layers (contrib)](https://www.tensorflow.org/api_guides/python/contrib.layers) packages for this layer. For more of a challenge, only use other TensorFlow packages."
   ]
  },
  {
   "cell_type": "code",
   "execution_count": 102,
   "metadata": {
    "collapsed": false,
    "deletable": true,
    "editable": true
   },
   "outputs": [
    {
     "name": "stdout",
     "output_type": "stream",
     "text": [
      "Tests Passed\n"
     ]
    }
   ],
   "source": [
    "def fully_conn(x_tensor, num_outputs):\n",
    "    \"\"\"\n",
    "    Apply a fully connected layer to x_tensor using weight and bias\n",
    "    : x_tensor: A 2-D tensor where the first dimension is batch size.\n",
    "    : num_outputs: The number of output that the new tensor should be.\n",
    "    : return: A 2-D tensor where the second dimension is num_outputs.\n",
    "    \"\"\"\n",
    "    # get the tensor shape [Batch_size, input_size]\n",
    "    shape = x_tensor.get_shape().as_list()\n",
    "    \n",
    "    # init weights [input x output] and biases [output]\n",
    "    weights = tf.Variable(tf.truncated_normal([shape[-1], num_outputs]))\n",
    "    \n",
    "    biases  = tf.Variable(tf.zeros([num_outputs]))\n",
    "    \n",
    "    # add the output layer\n",
    "    connected = tf.add(tf.matmul(x_tensor, weights), biases)\n",
    "    \n",
    "    return tf.nn.relu(connected)\n",
    "\n",
    "\"\"\"\n",
    "DON'T MODIFY ANYTHING IN THIS CELL THAT IS BELOW THIS LINE\n",
    "\"\"\"\n",
    "tests.test_fully_conn(fully_conn)"
   ]
  },
  {
   "cell_type": "markdown",
   "metadata": {
    "deletable": true,
    "editable": true
   },
   "source": [
    "### Output Layer\n",
    "Implement the `output` function to apply a fully connected layer to `x_tensor` with the shape (*Batch Size*, *num_outputs*). Shortcut option: you can use classes from the [TensorFlow Layers](https://www.tensorflow.org/api_docs/python/tf/layers) or [TensorFlow Layers (contrib)](https://www.tensorflow.org/api_guides/python/contrib.layers) packages for this layer. For more of a challenge, only use other TensorFlow packages.\n",
    "\n",
    "**Note:** Activation, softmax, or cross entropy should **not** be applied to this."
   ]
  },
  {
   "cell_type": "code",
   "execution_count": 103,
   "metadata": {
    "collapsed": false,
    "deletable": true,
    "editable": true
   },
   "outputs": [
    {
     "name": "stdout",
     "output_type": "stream",
     "text": [
      "Tests Passed\n"
     ]
    }
   ],
   "source": [
    "def output(x_tensor, num_outputs):\n",
    "    \"\"\"\n",
    "    Apply a output layer to x_tensor using weight and bias\n",
    "    : x_tensor: A 2-D tensor where the first dimension is batch size.\n",
    "    : num_outputs: The number of output that the new tensor should be.\n",
    "    : return: A 2-D tensor where the second dimension is num_outputs.\n",
    "    \"\"\"\n",
    "    \n",
    "    # get the tensor shape [Batch_size, input_size]\n",
    "    shape = x_tensor.get_shape().as_list()\n",
    "    \n",
    "    # init weights and biases\n",
    "    weights = tf.Variable(tf.truncated_normal([shape[-1], num_outputs]))\n",
    "    \n",
    "    biases  = tf.Variable(tf.zeros(num_outputs))\n",
    "    \n",
    "    # add the output layer\n",
    "    output_layer = tf.add(tf.matmul(x_tensor, weights), biases)\n",
    "        \n",
    "    # return the output layer\n",
    "    return output_layer\n",
    "\n",
    "\"\"\"\n",
    "DON'T MODIFY ANYTHING IN THIS CELL THAT IS BELOW THIS LINE\n",
    "\"\"\"\n",
    "tests.test_output(output)"
   ]
  },
  {
   "cell_type": "markdown",
   "metadata": {
    "deletable": true,
    "editable": true
   },
   "source": [
    "### Create Convolutional Model\n",
    "Implement the function `conv_net` to create a convolutional neural network model. The function takes in a batch of images, `x`, and outputs logits.  Use the layers you created above to create this model:\n",
    "\n",
    "* Apply 1, 2, or 3 Convolution and Max Pool layers\n",
    "* Apply a Flatten Layer\n",
    "* Apply 1, 2, or 3 Fully Connected Layers\n",
    "* Apply an Output Layer\n",
    "* Return the output\n",
    "* Apply [TensorFlow's Dropout](https://www.tensorflow.org/api_docs/python/tf/nn/dropout) to one or more layers in the model using `keep_prob`. "
   ]
  },
  {
   "cell_type": "code",
   "execution_count": 119,
   "metadata": {
    "collapsed": false,
    "deletable": true,
    "editable": true
   },
   "outputs": [
    {
     "name": "stdout",
     "output_type": "stream",
     "text": [
      "Neural Network Built!\n"
     ]
    }
   ],
   "source": [
    "def conv_net(x, keep_prob):\n",
    "    \"\"\"\n",
    "    Create a convolutional neural network model\n",
    "    : x: Placeholder tensor that holds image data.\n",
    "    : keep_prob: Placeholder tensor that hold dropout keep probability.\n",
    "    : return: Tensor that represents logits\n",
    "    \"\"\"\n",
    "    # TODO: Apply 1, 2, or 3 Convolution and Max Pool layers\n",
    "    #    Play around with different number of outputs, kernel size and stride\n",
    "    # Function Definition from Above:\n",
    "    #    conv2d_maxpool(x_tensor, conv_num_outputs, conv_ksize, conv_strides, pool_ksize, pool_strides)\n",
    "    \n",
    "    conv_num_outputs = [16, 32, 64]\n",
    "    conv_ksize       = [[4, 4], [4, 4], [4, 4]]\n",
    "    conv_strides     = [[1, 1], [1, 1], [1, 1]]\n",
    "    pool_ksize       = [[2, 2], [2, 2], [2, 2]]\n",
    "    pool_strides     = [[2, 2], [2, 2], [2, 2]]\n",
    "    num_outputs      = 10\n",
    "    \n",
    "    # layer-1: convolution\n",
    "    conv1 = conv2d_maxpool(x, conv_num_outputs[0], conv_ksize[0], conv_strides[0], pool_ksize[0], pool_strides[0])\n",
    "        \n",
    "    # layer-2: convolution\n",
    "    conv2  = conv2d_maxpool(conv1, conv_num_outputs[1], conv_ksize[0], conv_strides[0], pool_ksize[0], pool_strides[0])\n",
    "    \n",
    "    # layer-3: convolution\n",
    "    conv3  = conv2d_maxpool(conv2, conv_num_outputs[2], conv_ksize[0], conv_strides[0], pool_ksize[0], pool_strides[0])\n",
    "        \n",
    "    # TODO: Apply a Flatten Layer\n",
    "    # Function Definition from Above:\n",
    "    #   flatten(x_tensor)\n",
    "    \n",
    "    # flatten tensor to convert to fully connected layers\n",
    "    conv_layer = flatten(conv3)\n",
    "                \n",
    "    # TODO: Apply 1, 2, or 3 Fully Connected Layers\n",
    "    #    Play around with different number of outputs\n",
    "    # Function Definition from Above:\n",
    "    #   fully_conn(x_tensor, num_outputs)\n",
    "    \n",
    "    connected1 = fully_conn(conv_layer, 4096)\n",
    "    connected1 = tf.nn.dropout(connected1, keep_prob)\n",
    "        \n",
    "    connected2 = fully_conn(connected1, 2048)\n",
    "    connected2 = tf.nn.dropout(connected2, keep_prob)\n",
    "    \n",
    "    # TODO: Apply an Output Layer\n",
    "    #    Set this to the number of classes\n",
    "    # Function Definition from Above:\n",
    "    #   output(x_tensor, num_outputs)\n",
    "    \n",
    "    output_layer = output(connected2, num_outputs)\n",
    "    \n",
    "    # TODO: return output\n",
    "    return output_layer\n",
    "\n",
    "\n",
    "\"\"\"\n",
    "DON'T MODIFY ANYTHING IN THIS CELL THAT IS BELOW THIS LINE\n",
    "\"\"\"\n",
    "\n",
    "##############################\n",
    "## Build the Neural Network ##\n",
    "##############################\n",
    "\n",
    "# Remove previous weights, bias, inputs, etc..\n",
    "tf.reset_default_graph()\n",
    "\n",
    "# Inputs\n",
    "x = neural_net_image_input((32, 32, 3))\n",
    "y = neural_net_label_input(10)\n",
    "keep_prob = neural_net_keep_prob_input()\n",
    "\n",
    "# Model\n",
    "logits = conv_net(x, keep_prob)\n",
    "\n",
    "# Name logits Tensor, so that is can be loaded from disk after training\n",
    "logits = tf.identity(logits, name='logits')\n",
    "\n",
    "# Loss and Optimizer\n",
    "cost = tf.reduce_mean(tf.nn.softmax_cross_entropy_with_logits(logits=logits, labels=y))\n",
    "optimizer = tf.train.AdamOptimizer().minimize(cost)\n",
    "\n",
    "# Accuracy\n",
    "correct_pred = tf.equal(tf.argmax(logits, 1), tf.argmax(y, 1))\n",
    "accuracy = tf.reduce_mean(tf.cast(correct_pred, tf.float32), name='accuracy')\n",
    "\n",
    "tests.test_conv_net(conv_net)"
   ]
  },
  {
   "cell_type": "markdown",
   "metadata": {
    "deletable": true,
    "editable": true
   },
   "source": [
    "## Train the Neural Network\n",
    "### Single Optimization\n",
    "Implement the function `train_neural_network` to do a single optimization.  The optimization should use `optimizer` to optimize in `session` with a `feed_dict` of the following:\n",
    "* `x` for image input\n",
    "* `y` for labels\n",
    "* `keep_prob` for keep probability for dropout\n",
    "\n",
    "This function will be called for each batch, so `tf.global_variables_initializer()` has already been called.\n",
    "\n",
    "Note: Nothing needs to be returned. This function is only optimizing the neural network."
   ]
  },
  {
   "cell_type": "code",
   "execution_count": 105,
   "metadata": {
    "collapsed": false,
    "deletable": true,
    "editable": true
   },
   "outputs": [
    {
     "name": "stdout",
     "output_type": "stream",
     "text": [
      "Tests Passed\n"
     ]
    }
   ],
   "source": [
    "def train_neural_network(session, optimizer, keep_probability, feature_batch, label_batch):\n",
    "    \"\"\"\n",
    "    Optimize the session on a batch of images and labels\n",
    "    : session: Current TensorFlow session\n",
    "    : optimizer: TensorFlow optimizer function\n",
    "    : keep_probability: keep probability\n",
    "    : feature_batch: Batch of Numpy image data\n",
    "    : label_batch: Batch of Numpy label data\n",
    "    \"\"\"\n",
    "    \n",
    "    # run optimizer to reduce cost\n",
    "    session.run(optimizer, feed_dict = {x: feature_batch, y: label_batch, keep_prob: keep_probability})\n",
    "\n",
    "\n",
    "\"\"\"\n",
    "DON'T MODIFY ANYTHING IN THIS CELL THAT IS BELOW THIS LINE\n",
    "\"\"\"\n",
    "tests.test_train_nn(train_neural_network)"
   ]
  },
  {
   "cell_type": "markdown",
   "metadata": {
    "deletable": true,
    "editable": true
   },
   "source": [
    "### Show Stats\n",
    "Implement the function `print_stats` to print loss and validation accuracy.  Use the global variables `valid_features` and `valid_labels` to calculate validation accuracy.  Use a keep probability of `1.0` to calculate the loss and validation accuracy."
   ]
  },
  {
   "cell_type": "code",
   "execution_count": 106,
   "metadata": {
    "collapsed": false,
    "deletable": true,
    "editable": true
   },
   "outputs": [],
   "source": [
    "def print_stats(session, feature_batch, label_batch, cost, accuracy):\n",
    "    \"\"\"\n",
    "    Print information about loss and validation accuracy\n",
    "    : session: Current TensorFlow session\n",
    "    : feature_batch: Batch of Numpy image data\n",
    "    : label_batch: Batch of Numpy label data\n",
    "    : cost: TensorFlow cost function\n",
    "    : accuracy: TensorFlow accuracy function\n",
    "    \"\"\"\n",
    "    \n",
    "    loss = session.run(cost, feed_dict = {x: feature_batch, y: label_batch, keep_prob: 1.})\n",
    "    \n",
    "    validation_accuracy = session.run(accuracy, \n",
    "                                      feed_dict = {x: valid_features, y: valid_labels, keep_prob: 1.})\n",
    "    \n",
    "    print('Loss: {:>10.4f}, Validation Accuracy: {:.6f} %'.format(loss, validation_accuracy * 100))"
   ]
  },
  {
   "cell_type": "markdown",
   "metadata": {
    "deletable": true,
    "editable": true
   },
   "source": [
    "### Hyperparameters\n",
    "Tune the following parameters:\n",
    "* Set `epochs` to the number of iterations until the network stops learning or start overfitting\n",
    "* Set `batch_size` to the highest number that your machine has memory for.  Most people set them to common sizes of memory:\n",
    " * 64\n",
    " * 128\n",
    " * 256\n",
    " * ...\n",
    "* Set `keep_probability` to the probability of keeping a node using dropout"
   ]
  },
  {
   "cell_type": "code",
   "execution_count": 107,
   "metadata": {
    "collapsed": true,
    "deletable": true,
    "editable": true
   },
   "outputs": [],
   "source": [
    "# TODO: Tune Parameters\n",
    "epochs = 50\n",
    "batch_size = 512\n",
    "keep_probability = 0.9"
   ]
  },
  {
   "cell_type": "markdown",
   "metadata": {
    "deletable": true,
    "editable": true
   },
   "source": [
    "### Train on a Single CIFAR-10 Batch\n",
    "Instead of training the neural network on all the CIFAR-10 batches of data, let's use a single batch. This should save time while you iterate on the model to get a better accuracy.  Once the final validation accuracy is 50% or greater, run the model on all the data in the next section."
   ]
  },
  {
   "cell_type": "code",
   "execution_count": 112,
   "metadata": {
    "collapsed": false,
    "deletable": true,
    "editable": true
   },
   "outputs": [
    {
     "name": "stdout",
     "output_type": "stream",
     "text": [
      "Checking the Training on a Single Batch...\n",
      "Epoch  1, CIFAR-10 Batch 1:  Loss: 3540680.5000, Validation Accuracy: 20.879999 %\n",
      "Epoch  2, CIFAR-10 Batch 1:  Loss: 1748726.2500, Validation Accuracy: 29.719999 %\n",
      "Epoch  3, CIFAR-10 Batch 1:  Loss: 1292671.0000, Validation Accuracy: 33.879998 %\n",
      "Epoch  4, CIFAR-10 Batch 1:  Loss: 1133245.6250, Validation Accuracy: 35.399997 %\n",
      "Epoch  5, CIFAR-10 Batch 1:  Loss: 908362.8125, Validation Accuracy: 36.740002 %\n",
      "Epoch  6, CIFAR-10 Batch 1:  Loss: 761946.0625, Validation Accuracy: 39.199996 %\n",
      "Epoch  7, CIFAR-10 Batch 1:  Loss: 631314.5625, Validation Accuracy: 39.260000 %\n",
      "Epoch  8, CIFAR-10 Batch 1:  Loss: 526838.5000, Validation Accuracy: 39.039999 %\n",
      "Epoch  9, CIFAR-10 Batch 1:  Loss: 445138.1562, Validation Accuracy: 38.779998 %\n",
      "Epoch 10, CIFAR-10 Batch 1:  Loss: 380533.5938, Validation Accuracy: 38.619998 %\n",
      "Epoch 11, CIFAR-10 Batch 1:  Loss: 319406.5938, Validation Accuracy: 39.179999 %\n",
      "Epoch 12, CIFAR-10 Batch 1:  Loss: 260508.3438, Validation Accuracy: 39.359996 %\n",
      "Epoch 13, CIFAR-10 Batch 1:  Loss: 223103.0156, Validation Accuracy: 39.499998 %\n",
      "Epoch 14, CIFAR-10 Batch 1:  Loss: 189782.2344, Validation Accuracy: 39.379996 %\n",
      "Epoch 15, CIFAR-10 Batch 1:  Loss: 168384.1719, Validation Accuracy: 39.659998 %\n",
      "Epoch 16, CIFAR-10 Batch 1:  Loss: 143159.5000, Validation Accuracy: 38.919997 %\n",
      "Epoch 17, CIFAR-10 Batch 1:  Loss: 127073.7500, Validation Accuracy: 39.139998 %\n",
      "Epoch 18, CIFAR-10 Batch 1:  Loss: 119577.1562, Validation Accuracy: 38.279998 %\n",
      "Epoch 19, CIFAR-10 Batch 1:  Loss: 102118.7578, Validation Accuracy: 38.060001 %\n",
      "Epoch 20, CIFAR-10 Batch 1:  Loss: 89640.5078, Validation Accuracy: 38.780001 %\n",
      "Epoch 21, CIFAR-10 Batch 1:  Loss: 79515.2344, Validation Accuracy: 38.819999 %\n",
      "Epoch 22, CIFAR-10 Batch 1:  Loss: 69287.8750, Validation Accuracy: 39.379999 %\n",
      "Epoch 23, CIFAR-10 Batch 1:  Loss: 59811.9141, Validation Accuracy: 39.399999 %\n",
      "Epoch 24, CIFAR-10 Batch 1:  Loss: 47861.9844, Validation Accuracy: 39.419997 %\n",
      "Epoch 25, CIFAR-10 Batch 1:  Loss: 41795.9180, Validation Accuracy: 39.539999 %\n",
      "Epoch 26, CIFAR-10 Batch 1:  Loss: 36137.9805, Validation Accuracy: 39.719999 %\n",
      "Epoch 27, CIFAR-10 Batch 1:  Loss: 31049.0547, Validation Accuracy: 39.460000 %\n",
      "Epoch 28, CIFAR-10 Batch 1:  Loss: 29620.1211, Validation Accuracy: 39.379999 %\n",
      "Epoch 29, CIFAR-10 Batch 1:  Loss: 25246.8320, Validation Accuracy: 39.419997 %\n",
      "Epoch 30, CIFAR-10 Batch 1:  Loss: 22371.5078, Validation Accuracy: 39.279997 %\n",
      "Epoch 31, CIFAR-10 Batch 1:  Loss: 20356.4199, Validation Accuracy: 39.179999 %\n",
      "Epoch 32, CIFAR-10 Batch 1:  Loss: 16779.9453, Validation Accuracy: 39.419997 %\n",
      "Epoch 33, CIFAR-10 Batch 1:  Loss: 14916.5742, Validation Accuracy: 39.019999 %\n",
      "Epoch 34, CIFAR-10 Batch 1:  Loss: 14399.7637, Validation Accuracy: 39.059997 %\n",
      "Epoch 35, CIFAR-10 Batch 1:  Loss: 11793.4922, Validation Accuracy: 39.339998 %\n",
      "Epoch 36, CIFAR-10 Batch 1:  Loss:  9486.7969, Validation Accuracy: 39.100000 %\n",
      "Epoch 37, CIFAR-10 Batch 1:  Loss:  8044.3608, Validation Accuracy: 39.099997 %\n",
      "Epoch 38, CIFAR-10 Batch 1:  Loss:  7666.2944, Validation Accuracy: 39.019999 %\n",
      "Epoch 39, CIFAR-10 Batch 1:  Loss:  7355.1821, Validation Accuracy: 39.600000 %\n",
      "Epoch 40, CIFAR-10 Batch 1:  Loss:  7646.2681, Validation Accuracy: 39.439997 %\n",
      "Epoch 41, CIFAR-10 Batch 1:  Loss:  6595.2993, Validation Accuracy: 39.699996 %\n",
      "Epoch 42, CIFAR-10 Batch 1:  Loss:  5650.4771, Validation Accuracy: 39.980000 %\n",
      "Epoch 43, CIFAR-10 Batch 1:  Loss:  4814.9214, Validation Accuracy: 39.919996 %\n",
      "Epoch 44, CIFAR-10 Batch 1:  Loss:  5032.3467, Validation Accuracy: 39.399999 %\n",
      "Epoch 45, CIFAR-10 Batch 1:  Loss:  5182.8467, Validation Accuracy: 39.959997 %\n",
      "Epoch 46, CIFAR-10 Batch 1:  Loss:  4573.5269, Validation Accuracy: 39.879999 %\n",
      "Epoch 47, CIFAR-10 Batch 1:  Loss:  4107.8623, Validation Accuracy: 39.100000 %\n",
      "Epoch 48, CIFAR-10 Batch 1:  Loss:  3716.6558, Validation Accuracy: 39.439997 %\n",
      "Epoch 49, CIFAR-10 Batch 1:  Loss:  2981.3220, Validation Accuracy: 39.640000 %\n",
      "Epoch 50, CIFAR-10 Batch 1:  Loss:  2388.6782, Validation Accuracy: 39.679998 %\n"
     ]
    }
   ],
   "source": [
    "\"\"\"\n",
    "DON'T MODIFY ANYTHING IN THIS CELL\n",
    "\"\"\"\n",
    "print('Checking the Training on a Single Batch...')\n",
    "with tf.Session() as sess:\n",
    "    # Initializing the variables\n",
    "    sess.run(tf.global_variables_initializer())\n",
    "    \n",
    "    # Training cycle\n",
    "    for epoch in range(epochs):\n",
    "        batch_i = 1\n",
    "        for batch_features, batch_labels in helper.load_preprocess_training_batch(batch_i, batch_size):\n",
    "            train_neural_network(sess, optimizer, keep_probability, batch_features, batch_labels)\n",
    "        print('Epoch {:>2}, CIFAR-10 Batch {}:  '.format(epoch + 1, batch_i), end='')\n",
    "        print_stats(sess, batch_features, batch_labels, cost, accuracy)"
   ]
  },
  {
   "cell_type": "code",
   "execution_count": 114,
   "metadata": {
    "collapsed": true,
    "deletable": true,
    "editable": true
   },
   "outputs": [],
   "source": [
    "# Set parameters for full training set\n",
    "epochs = 10\n",
    "batch_size = 512\n",
    "keep_probability = 0.9"
   ]
  },
  {
   "cell_type": "markdown",
   "metadata": {
    "deletable": true,
    "editable": true
   },
   "source": [
    "### Fully Train the Model\n",
    "Now that you got a good accuracy with a single CIFAR-10 batch, try it with all five batches."
   ]
  },
  {
   "cell_type": "code",
   "execution_count": 115,
   "metadata": {
    "collapsed": false,
    "deletable": true,
    "editable": true
   },
   "outputs": [
    {
     "name": "stdout",
     "output_type": "stream",
     "text": [
      "Training...\n",
      "Epoch  1, CIFAR-10 Batch 1:  Loss: 3727333.5000, Validation Accuracy: 20.520000 %\n",
      "Epoch  1, CIFAR-10 Batch 2:  Loss: 2128123.5000, Validation Accuracy: 28.079998 %\n",
      "Epoch  1, CIFAR-10 Batch 3:  Loss: 1343015.7500, Validation Accuracy: 31.299999 %\n",
      "Epoch  1, CIFAR-10 Batch 4:  Loss: 1106199.6250, Validation Accuracy: 34.419996 %\n",
      "Epoch  1, CIFAR-10 Batch 5:  Loss: 937514.2500, Validation Accuracy: 36.199999 %\n",
      "Epoch  2, CIFAR-10 Batch 1:  Loss: 840146.3125, Validation Accuracy: 36.339998 %\n",
      "Epoch  2, CIFAR-10 Batch 2:  Loss: 678453.0000, Validation Accuracy: 37.639999 %\n",
      "Epoch  2, CIFAR-10 Batch 3:  Loss: 540423.0000, Validation Accuracy: 38.120002 %\n",
      "Epoch  2, CIFAR-10 Batch 4:  Loss: 482838.2812, Validation Accuracy: 38.859996 %\n",
      "Epoch  2, CIFAR-10 Batch 5:  Loss: 417009.4375, Validation Accuracy: 38.699996 %\n",
      "Epoch  3, CIFAR-10 Batch 1:  Loss: 383703.7500, Validation Accuracy: 39.079994 %\n",
      "Epoch  3, CIFAR-10 Batch 2:  Loss: 319449.1562, Validation Accuracy: 38.659996 %\n",
      "Epoch  3, CIFAR-10 Batch 3:  Loss: 304450.9062, Validation Accuracy: 38.259995 %\n",
      "Epoch  3, CIFAR-10 Batch 4:  Loss: 221984.0625, Validation Accuracy: 38.399997 %\n",
      "Epoch  3, CIFAR-10 Batch 5:  Loss: 213856.6250, Validation Accuracy: 37.520000 %\n",
      "Epoch  4, CIFAR-10 Batch 1:  Loss: 206301.1719, Validation Accuracy: 38.099998 %\n",
      "Epoch  4, CIFAR-10 Batch 2:  Loss: 193405.3125, Validation Accuracy: 37.499997 %\n",
      "Epoch  4, CIFAR-10 Batch 3:  Loss: 183724.4844, Validation Accuracy: 36.980000 %\n",
      "Epoch  4, CIFAR-10 Batch 4:  Loss: 131191.0156, Validation Accuracy: 36.119998 %\n",
      "Epoch  4, CIFAR-10 Batch 5:  Loss: 123872.2656, Validation Accuracy: 35.799998 %\n",
      "Epoch  5, CIFAR-10 Batch 1:  Loss: 122535.4297, Validation Accuracy: 35.759997 %\n",
      "Epoch  5, CIFAR-10 Batch 2:  Loss: 109738.3672, Validation Accuracy: 35.279998 %\n",
      "Epoch  5, CIFAR-10 Batch 3:  Loss: 103164.9531, Validation Accuracy: 34.679997 %\n",
      "Epoch  5, CIFAR-10 Batch 4:  Loss: 82924.0078, Validation Accuracy: 33.399999 %\n",
      "Epoch  5, CIFAR-10 Batch 5:  Loss: 70664.5391, Validation Accuracy: 31.779999 %\n",
      "Epoch  6, CIFAR-10 Batch 1:  Loss: 66952.9219, Validation Accuracy: 31.739998 %\n",
      "Epoch  6, CIFAR-10 Batch 2:  Loss: 48681.6797, Validation Accuracy: 30.559999 %\n",
      "Epoch  6, CIFAR-10 Batch 3:  Loss: 43043.1953, Validation Accuracy: 27.579999 %\n",
      "Epoch  6, CIFAR-10 Batch 4:  Loss: 28487.7266, Validation Accuracy: 25.459999 %\n",
      "Epoch  6, CIFAR-10 Batch 5:  Loss: 19932.0977, Validation Accuracy: 21.359999 %\n",
      "Epoch  7, CIFAR-10 Batch 1:  Loss: 13744.9365, Validation Accuracy: 17.819999 %\n",
      "Epoch  7, CIFAR-10 Batch 2:  Loss:  4915.5273, Validation Accuracy: 15.339997 %\n",
      "Epoch  7, CIFAR-10 Batch 3:  Loss:  3133.9233, Validation Accuracy: 13.020000 %\n",
      "Epoch  7, CIFAR-10 Batch 4:  Loss:  1312.2354, Validation Accuracy: 11.339999 %\n",
      "Epoch  7, CIFAR-10 Batch 5:  Loss:   425.3174, Validation Accuracy: 10.940000 %\n",
      "Epoch  8, CIFAR-10 Batch 1:  Loss:   415.7934, Validation Accuracy: 10.679999 %\n",
      "Epoch  8, CIFAR-10 Batch 2:  Loss:   601.5173, Validation Accuracy: 10.460000 %\n",
      "Epoch  8, CIFAR-10 Batch 3:  Loss:    96.8636, Validation Accuracy: 10.379999 %\n",
      "Epoch  8, CIFAR-10 Batch 4:  Loss:   357.0544, Validation Accuracy: 10.399999 %\n",
      "Epoch  8, CIFAR-10 Batch 5:  Loss:     7.2666, Validation Accuracy: 10.299999 %\n",
      "Epoch  9, CIFAR-10 Batch 1:  Loss:   198.3875, Validation Accuracy: 10.240000 %\n",
      "Epoch  9, CIFAR-10 Batch 2:  Loss:   201.6311, Validation Accuracy: 10.220000 %\n",
      "Epoch  9, CIFAR-10 Batch 3:  Loss:    36.6482, Validation Accuracy: 10.200001 %\n",
      "Epoch  9, CIFAR-10 Batch 4:  Loss:   211.7612, Validation Accuracy: 10.160000 %\n",
      "Epoch  9, CIFAR-10 Batch 5:  Loss:    15.8631, Validation Accuracy: 10.140000 %\n",
      "Epoch 10, CIFAR-10 Batch 1:  Loss:   182.8853, Validation Accuracy: 10.119999 %\n",
      "Epoch 10, CIFAR-10 Batch 2:  Loss:    63.7824, Validation Accuracy: 10.100000 %\n",
      "Epoch 10, CIFAR-10 Batch 3:  Loss:    40.3925, Validation Accuracy: 10.079999 %\n",
      "Epoch 10, CIFAR-10 Batch 4:  Loss:   108.9643, Validation Accuracy: 10.100000 %\n",
      "Epoch 10, CIFAR-10 Batch 5:  Loss:     2.2932, Validation Accuracy: 10.099999 %\n"
     ]
    }
   ],
   "source": [
    "\"\"\"\n",
    "DON'T MODIFY ANYTHING IN THIS CELL\n",
    "\"\"\"\n",
    "save_model_path = './image_classification'\n",
    "\n",
    "print('Training...')\n",
    "with tf.Session() as sess:\n",
    "    # Initializing the variables\n",
    "    sess.run(tf.global_variables_initializer())\n",
    "    \n",
    "    # Training cycle\n",
    "    for epoch in range(epochs):\n",
    "        # Loop over all batches\n",
    "        n_batches = 5\n",
    "        for batch_i in range(1, n_batches + 1):\n",
    "            for batch_features, batch_labels in helper.load_preprocess_training_batch(batch_i, batch_size):\n",
    "                train_neural_network(sess, optimizer, keep_probability, batch_features, batch_labels)\n",
    "            print('Epoch {:>2}, CIFAR-10 Batch {}:  '.format(epoch + 1, batch_i), end='')\n",
    "            print_stats(sess, batch_features, batch_labels, cost, accuracy)\n",
    "            \n",
    "    # Save Model\n",
    "    saver = tf.train.Saver()\n",
    "    save_path = saver.save(sess, save_model_path)"
   ]
  },
  {
   "cell_type": "markdown",
   "metadata": {
    "deletable": true,
    "editable": true
   },
   "source": [
    "# Checkpoint\n",
    "The model has been saved to disk.\n",
    "## Test Model\n",
    "Test your model against the test dataset.  This will be your final accuracy. You should have an accuracy greater than 50%. If you don't, keep tweaking the model architecture and parameters."
   ]
  },
  {
   "cell_type": "code",
   "execution_count": 116,
   "metadata": {
    "collapsed": false,
    "deletable": true,
    "editable": true
   },
   "outputs": [
    {
     "name": "stdout",
     "output_type": "stream",
     "text": [
      "Testing Accuracy: 0.09948874078691006\n",
      "\n"
     ]
    },
    {
     "data": {
      "image/png": "[encoded data removed]",
      "text/plain": [
       "<matplotlib.figure.Figure at 0x7fbcad05df60>"
      ]
     },
     "metadata": {
      "image/png": {
       "height": 319,
       "width": 355
      }
     },
     "output_type": "display_data"
    }
   ],
   "source": [
    "\"\"\"\n",
    "DON'T MODIFY ANYTHING IN THIS CELL\n",
    "\"\"\"\n",
    "%matplotlib inline\n",
    "%config InlineBackend.figure_format = 'retina'\n",
    "\n",
    "import tensorflow as tf\n",
    "import pickle\n",
    "import helper\n",
    "import random\n",
    "\n",
    "# Set batch size if not already set\n",
    "try:\n",
    "    if batch_size:\n",
    "        pass\n",
    "except NameError:\n",
    "    batch_size = 64\n",
    "\n",
    "save_model_path = './image_classification'\n",
    "n_samples = 4\n",
    "top_n_predictions = 3\n",
    "\n",
    "def test_model():\n",
    "    \"\"\"\n",
    "    Test the saved model against the test dataset\n",
    "    \"\"\"\n",
    "\n",
    "    test_features, test_labels = pickle.load(open('preprocess_training.p', mode='rb'))\n",
    "    loaded_graph = tf.Graph()\n",
    "\n",
    "    with tf.Session(graph=loaded_graph) as sess:\n",
    "        # Load model\n",
    "        loader = tf.train.import_meta_graph(save_model_path + '.meta')\n",
    "        loader.restore(sess, save_model_path)\n",
    "\n",
    "        # Get Tensors from loaded model\n",
    "        loaded_x = loaded_graph.get_tensor_by_name('x:0')\n",
    "        loaded_y = loaded_graph.get_tensor_by_name('y:0')\n",
    "        loaded_keep_prob = loaded_graph.get_tensor_by_name('keep_prob:0')\n",
    "        loaded_logits = loaded_graph.get_tensor_by_name('logits:0')\n",
    "        loaded_acc = loaded_graph.get_tensor_by_name('accuracy:0')\n",
    "        \n",
    "        # Get accuracy in batches for memory limitations\n",
    "        test_batch_acc_total = 0\n",
    "        test_batch_count = 0\n",
    "        \n",
    "        for train_feature_batch, train_label_batch in helper.batch_features_labels(test_features, test_labels, batch_size):\n",
    "            test_batch_acc_total += sess.run(\n",
    "                loaded_acc,\n",
    "                feed_dict={loaded_x: train_feature_batch, loaded_y: train_label_batch, loaded_keep_prob: 1.0})\n",
    "            test_batch_count += 1\n",
    "\n",
    "        print('Testing Accuracy: {}\\n'.format(test_batch_acc_total/test_batch_count))\n",
    "\n",
    "        # Print Random Samples\n",
    "        random_test_features, random_test_labels = tuple(zip(*random.sample(list(zip(test_features, test_labels)), n_samples)))\n",
    "        random_test_predictions = sess.run(\n",
    "            tf.nn.top_k(tf.nn.softmax(loaded_logits), top_n_predictions),\n",
    "            feed_dict={loaded_x: random_test_features, loaded_y: random_test_labels, loaded_keep_prob: 1.0})\n",
    "        helper.display_image_predictions(random_test_features, random_test_labels, random_test_predictions)\n",
    "\n",
    "\n",
    "test_model()"
   ]
  },
  {
   "cell_type": "markdown",
   "metadata": {
    "deletable": true,
    "editable": true
   },
   "source": [
    "## Why 50-80% Accuracy?\n",
    "You might be wondering why you can't get an accuracy any higher. First things first, 50% isn't bad for a simple CNN.  Pure guessing would get you 10% accuracy. However, you might notice people are getting scores [well above 80%](http://rodrigob.github.io/are_we_there_yet/build/classification_datasets_results.html#43494641522d3130).  That's because we haven't taught you all there is to know about neural networks. We still need to cover a few more techniques.\n",
    "## Submitting This Project\n",
    "When submitting this project, make sure to run all the cells before saving the notebook.  Save the notebook file as \"dlnd_image_classification.ipynb\" and save it as a HTML file under \"File\" -> \"Download as\".  Include the \"helper.py\" and \"problem_unittests.py\" files in your submission."
   ]
  }
 ],
 "metadata": {
  "kernelspec": {
   "display_name": "Python 3",
   "language": "python",
   "name": "python3"
  },
  "language_info": {
   "codemirror_mode": {
    "name": "ipython",
    "version": 3
   },
   "file_extension": ".py",
   "mimetype": "text/x-python",
   "name": "python",
   "nbconvert_exporter": "python",
   "pygments_lexer": "ipython3",
   "version": "3.5.2"
  },
  "widgets": {
   "state": {},
   "version": "1.1.2"
  }
 },
 "nbformat": 4,
 "nbformat_minor": 0
}
